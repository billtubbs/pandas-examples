{
 "cells": [
  {
   "cell_type": "code",
   "execution_count": 1,
   "metadata": {},
   "outputs": [],
   "source": [
    "import numpy as np\n",
    "import pandas as pd\n",
    "import matplotlib.pyplot as plt\n",
    "\n",
    "%matplotlib inline"
   ]
  },
  {
   "cell_type": "code",
   "execution_count": 2,
   "metadata": {},
   "outputs": [
    {
     "data": {
      "text/plain": [
       "'3.6.7'"
      ]
     },
     "execution_count": 2,
     "metadata": {},
     "output_type": "execute_result"
    }
   ],
   "source": [
    "from platform import python_version\n",
    "python_version()"
   ]
  },
  {
   "cell_type": "code",
   "execution_count": 3,
   "metadata": {},
   "outputs": [
    {
     "data": {
      "text/plain": [
       "'1.18.1'"
      ]
     },
     "execution_count": 3,
     "metadata": {},
     "output_type": "execute_result"
    }
   ],
   "source": [
    "np.__version__"
   ]
  },
  {
   "cell_type": "code",
   "execution_count": 4,
   "metadata": {},
   "outputs": [
    {
     "data": {
      "text/plain": [
       "'1.0.1'"
      ]
     },
     "execution_count": 4,
     "metadata": {},
     "output_type": "execute_result"
    }
   ],
   "source": [
    "pd.__version__"
   ]
  },
  {
   "cell_type": "markdown",
   "metadata": {},
   "source": [
    "## Built-in Collections"
   ]
  },
  {
   "cell_type": "code",
   "execution_count": 5,
   "metadata": {},
   "outputs": [
    {
     "data": {
      "text/plain": [
       "(1, 2, 3, 4, 5)"
      ]
     },
     "execution_count": 5,
     "metadata": {},
     "output_type": "execute_result"
    }
   ],
   "source": [
    "numbers = (1, 2, 3, 4, 5)  # Immutable, ordered\n",
    "numbers"
   ]
  },
  {
   "cell_type": "code",
   "execution_count": 6,
   "metadata": {},
   "outputs": [
    {
     "data": {
      "text/plain": [
       "{'apple', 'banana', 'cherry', 'orange', 'pomegranate'}"
      ]
     },
     "execution_count": 6,
     "metadata": {},
     "output_type": "execute_result"
    }
   ],
   "source": [
    "fruit_names = {'apple', 'banana', 'orange'}  # Unorded\n",
    "fruit_names = fruit_names.union({'pomegranate', 'cherry'})  # Mutable\n",
    "fruit_names = fruit_names.union({'apple'})  # No duplcates!\n",
    "fruit_names"
   ]
  },
  {
   "cell_type": "code",
   "execution_count": 7,
   "metadata": {},
   "outputs": [
    {
     "data": {
      "text/plain": [
       "[0.564, 0.67, 0.465, 0.876, 0.1023]"
      ]
     },
     "execution_count": 7,
     "metadata": {},
     "output_type": "execute_result"
    }
   ],
   "source": [
    "data = [0.564, 0.670, 0.465]  # Mutable, ordered\n",
    "data.append(0.876)\n",
    "data.append(0.1023)\n",
    "data"
   ]
  },
  {
   "cell_type": "code",
   "execution_count": 8,
   "metadata": {},
   "outputs": [
    {
     "data": {
      "text/plain": [
       "{'apple': 5, 'banana': 10, 'orange': 0, 'pomegranate': 1}"
      ]
     },
     "execution_count": 8,
     "metadata": {},
     "output_type": "execute_result"
    }
   ],
   "source": [
    "stock = {'apple': 5, 'banana': 10, 'orange': 0}  # unordered\n",
    "stock['pomegranate'] = 1  # Mutable\n",
    "stock"
   ]
  },
  {
   "cell_type": "code",
   "execution_count": 9,
   "metadata": {},
   "outputs": [
    {
     "data": {
      "text/plain": [
       "dict_keys(['apple', 'banana', 'orange', 'pomegranate'])"
      ]
     },
     "execution_count": 9,
     "metadata": {},
     "output_type": "execute_result"
    }
   ],
   "source": [
    "stock.keys()"
   ]
  },
  {
   "cell_type": "code",
   "execution_count": 10,
   "metadata": {},
   "outputs": [
    {
     "data": {
      "text/plain": [
       "dict_values([5, 10, 0, 1])"
      ]
     },
     "execution_count": 10,
     "metadata": {},
     "output_type": "execute_result"
    }
   ],
   "source": [
    "stock.values()"
   ]
  },
  {
   "cell_type": "code",
   "execution_count": 11,
   "metadata": {},
   "outputs": [
    {
     "data": {
      "text/plain": [
       "['apple', 100, (1, 2, 3, 4, 5), 3.14159]"
      ]
     },
     "execution_count": 11,
     "metadata": {},
     "output_type": "execute_result"
    }
   ],
   "source": [
    "things = ['apple', 100, numbers, 3.14159]  # Multifarious types allowed\n",
    "things"
   ]
  },
  {
   "cell_type": "markdown",
   "metadata": {},
   "source": [
    "## Indexing"
   ]
  },
  {
   "cell_type": "code",
   "execution_count": 12,
   "metadata": {},
   "outputs": [
    {
     "data": {
      "text/plain": [
       "1"
      ]
     },
     "execution_count": 12,
     "metadata": {},
     "output_type": "execute_result"
    }
   ],
   "source": [
    "numbers[0]"
   ]
  },
  {
   "cell_type": "code",
   "execution_count": 13,
   "metadata": {},
   "outputs": [
    {
     "data": {
      "text/plain": [
       "(2, 3, 4, 5)"
      ]
     },
     "execution_count": 13,
     "metadata": {},
     "output_type": "execute_result"
    }
   ],
   "source": [
    "numbers[1:]"
   ]
  },
  {
   "cell_type": "code",
   "execution_count": 14,
   "metadata": {},
   "outputs": [
    {
     "data": {
      "text/plain": [
       "5"
      ]
     },
     "execution_count": 14,
     "metadata": {},
     "output_type": "execute_result"
    }
   ],
   "source": [
    "numbers[-1]"
   ]
  },
  {
   "cell_type": "code",
   "execution_count": 15,
   "metadata": {},
   "outputs": [
    {
     "data": {
      "text/plain": [
       "False"
      ]
     },
     "execution_count": 15,
     "metadata": {},
     "output_type": "execute_result"
    }
   ],
   "source": [
    "'potato' in fruit_names"
   ]
  },
  {
   "cell_type": "code",
   "execution_count": 16,
   "metadata": {},
   "outputs": [
    {
     "data": {
      "text/plain": [
       "5"
      ]
     },
     "execution_count": 16,
     "metadata": {},
     "output_type": "execute_result"
    }
   ],
   "source": [
    "stock['apple']"
   ]
  },
  {
   "cell_type": "code",
   "execution_count": 17,
   "metadata": {},
   "outputs": [
    {
     "data": {
      "text/plain": [
       "{'apple': 15, 'banana': 10, 'orange': 0, 'pomegranate': 1}"
      ]
     },
     "execution_count": 17,
     "metadata": {},
     "output_type": "execute_result"
    }
   ],
   "source": [
    "stock['apple'] = 15\n",
    "stock"
   ]
  },
  {
   "cell_type": "code",
   "execution_count": 18,
   "metadata": {},
   "outputs": [
    {
     "data": {
      "text/plain": [
       "{'apple': 15, 'banana': 10, 'orange': 0}"
      ]
     },
     "execution_count": 18,
     "metadata": {},
     "output_type": "execute_result"
    }
   ],
   "source": [
    "del stock['pomegranate']\n",
    "stock"
   ]
  },
  {
   "cell_type": "code",
   "execution_count": 19,
   "metadata": {},
   "outputs": [
    {
     "data": {
      "text/plain": [
       "{'apple': 15, 'banana': 10, 'orange': 0, 'grapes': 3}"
      ]
     },
     "execution_count": 19,
     "metadata": {},
     "output_type": "execute_result"
    }
   ],
   "source": [
    "stock['grapes'] = 3\n",
    "stock"
   ]
  },
  {
   "cell_type": "markdown",
   "metadata": {},
   "source": [
    "## Numpy Arrays"
   ]
  },
  {
   "cell_type": "code",
   "execution_count": 20,
   "metadata": {},
   "outputs": [
    {
     "data": {
      "text/plain": [
       "array([0.564 , 0.67  , 0.465 , 0.876 , 0.1023])"
      ]
     },
     "execution_count": 20,
     "metadata": {},
     "output_type": "execute_result"
    }
   ],
   "source": [
    "data_array = np.array(data)\n",
    "data_array"
   ]
  },
  {
   "cell_type": "code",
   "execution_count": 21,
   "metadata": {},
   "outputs": [
    {
     "data": {
      "text/plain": [
       "(5,)"
      ]
     },
     "execution_count": 21,
     "metadata": {},
     "output_type": "execute_result"
    }
   ],
   "source": [
    "data_array.shape"
   ]
  },
  {
   "cell_type": "code",
   "execution_count": 22,
   "metadata": {},
   "outputs": [
    {
     "data": {
      "text/plain": [
       "dtype('float64')"
      ]
     },
     "execution_count": 22,
     "metadata": {},
     "output_type": "execute_result"
    }
   ],
   "source": [
    "data_array.dtype"
   ]
  },
  {
   "cell_type": "code",
   "execution_count": 23,
   "metadata": {},
   "outputs": [
    {
     "data": {
      "text/plain": [
       "array([  1, 255,   0,   0], dtype=uint8)"
      ]
     },
     "execution_count": 23,
     "metadata": {},
     "output_type": "execute_result"
    }
   ],
   "source": [
    "b = np.array([1, 255, 0, 0], dtype='B')\n",
    "b"
   ]
  },
  {
   "cell_type": "code",
   "execution_count": 24,
   "metadata": {},
   "outputs": [
    {
     "data": {
      "text/plain": [
       "array([2, 0, 1, 1], dtype=uint8)"
      ]
     },
     "execution_count": 24,
     "metadata": {},
     "output_type": "execute_result"
    }
   ],
   "source": [
    "b = b + 1\n",
    "b"
   ]
  },
  {
   "cell_type": "code",
   "execution_count": 25,
   "metadata": {},
   "outputs": [
    {
     "data": {
      "text/plain": [
       "(2, 3)"
      ]
     },
     "execution_count": 25,
     "metadata": {},
     "output_type": "execute_result"
    }
   ],
   "source": [
    "data2 = np.array([[1, 2, 3], [4, 5, 6]])\n",
    "data2.shape"
   ]
  },
  {
   "cell_type": "code",
   "execution_count": 26,
   "metadata": {},
   "outputs": [
    {
     "data": {
      "text/plain": [
       "array([[1, 2, 3],\n",
       "       [4, 5, 6]])"
      ]
     },
     "execution_count": 26,
     "metadata": {},
     "output_type": "execute_result"
    }
   ],
   "source": [
    "data2"
   ]
  },
  {
   "cell_type": "code",
   "execution_count": 27,
   "metadata": {},
   "outputs": [
    {
     "data": {
      "text/plain": [
       "array([[1.        , 1.41421356, 1.73205081],\n",
       "       [2.        , 2.23606798, 2.44948974]])"
      ]
     },
     "execution_count": 27,
     "metadata": {},
     "output_type": "execute_result"
    }
   ],
   "source": [
    "np.sqrt(data2)"
   ]
  },
  {
   "cell_type": "code",
   "execution_count": 28,
   "metadata": {},
   "outputs": [],
   "source": [
    "def my_calc(x):\n",
    "    return x**2 - x + 1"
   ]
  },
  {
   "cell_type": "code",
   "execution_count": 29,
   "metadata": {},
   "outputs": [
    {
     "data": {
      "text/plain": [
       "array([[ 1,  3,  7],\n",
       "       [13, 21, 31]])"
      ]
     },
     "execution_count": 29,
     "metadata": {},
     "output_type": "execute_result"
    }
   ],
   "source": [
    "my_calc(data2)"
   ]
  },
  {
   "cell_type": "markdown",
   "metadata": {},
   "source": [
    "## Pandas Series"
   ]
  },
  {
   "cell_type": "code",
   "execution_count": 30,
   "metadata": {},
   "outputs": [
    {
     "data": {
      "text/plain": [
       "{'apple': 15, 'banana': 10, 'orange': 0, 'grapes': 3}"
      ]
     },
     "execution_count": 30,
     "metadata": {},
     "output_type": "execute_result"
    }
   ],
   "source": [
    "stock"
   ]
  },
  {
   "cell_type": "code",
   "execution_count": 31,
   "metadata": {},
   "outputs": [
    {
     "data": {
      "text/plain": [
       "apple     15\n",
       "banana    10\n",
       "orange     0\n",
       "grapes     3\n",
       "Name: Stock level, dtype: int64"
      ]
     },
     "execution_count": 31,
     "metadata": {},
     "output_type": "execute_result"
    }
   ],
   "source": [
    "stock_series = pd.Series(stock, name='Stock level')\n",
    "stock_series"
   ]
  },
  {
   "cell_type": "code",
   "execution_count": 32,
   "metadata": {},
   "outputs": [
    {
     "data": {
      "text/plain": [
       "15"
      ]
     },
     "execution_count": 32,
     "metadata": {},
     "output_type": "execute_result"
    }
   ],
   "source": [
    "stock_series['apple']"
   ]
  },
  {
   "cell_type": "code",
   "execution_count": 33,
   "metadata": {},
   "outputs": [
    {
     "data": {
      "text/plain": [
       "Index(['apple', 'banana', 'orange', 'grapes'], dtype='object')"
      ]
     },
     "execution_count": 33,
     "metadata": {},
     "output_type": "execute_result"
    }
   ],
   "source": [
    "stock_series.index"
   ]
  },
  {
   "cell_type": "code",
   "execution_count": 34,
   "metadata": {},
   "outputs": [
    {
     "data": {
      "text/plain": [
       "array([15, 10,  0,  3])"
      ]
     },
     "execution_count": 34,
     "metadata": {},
     "output_type": "execute_result"
    }
   ],
   "source": [
    "stock_series.values"
   ]
  },
  {
   "cell_type": "code",
   "execution_count": 35,
   "metadata": {},
   "outputs": [
    {
     "data": {
      "text/plain": [
       "'Stock level'"
      ]
     },
     "execution_count": 35,
     "metadata": {},
     "output_type": "execute_result"
    }
   ],
   "source": [
    "stock_series.name"
   ]
  },
  {
   "cell_type": "code",
   "execution_count": 36,
   "metadata": {},
   "outputs": [],
   "source": [
    "stock_series['banana'] = stock_series['banana'] + 50"
   ]
  },
  {
   "cell_type": "code",
   "execution_count": 37,
   "metadata": {},
   "outputs": [
    {
     "data": {
      "text/plain": [
       "apple     15\n",
       "banana    60\n",
       "orange     0\n",
       "grapes     3\n",
       "Name: Stock level, dtype: int64"
      ]
     },
     "execution_count": 37,
     "metadata": {},
     "output_type": "execute_result"
    }
   ],
   "source": [
    "stock_series"
   ]
  },
  {
   "cell_type": "code",
   "execution_count": 38,
   "metadata": {},
   "outputs": [],
   "source": [
    "stock_series['pomegranate'] = 3"
   ]
  },
  {
   "cell_type": "code",
   "execution_count": 39,
   "metadata": {},
   "outputs": [
    {
     "data": {
      "text/plain": [
       "apple          15\n",
       "banana         60\n",
       "orange          0\n",
       "grapes          3\n",
       "pomegranate     3\n",
       "Name: Stock level, dtype: int64"
      ]
     },
     "execution_count": 39,
     "metadata": {},
     "output_type": "execute_result"
    }
   ],
   "source": [
    "stock_series"
   ]
  },
  {
   "cell_type": "code",
   "execution_count": 40,
   "metadata": {},
   "outputs": [
    {
     "data": {
      "text/plain": [
       "3"
      ]
     },
     "execution_count": 40,
     "metadata": {},
     "output_type": "execute_result"
    }
   ],
   "source": [
    "stock_series['grapes']"
   ]
  },
  {
   "cell_type": "markdown",
   "metadata": {},
   "source": [
    "## Pandas DataFrame"
   ]
  },
  {
   "cell_type": "code",
   "execution_count": 41,
   "metadata": {},
   "outputs": [
    {
     "data": {
      "text/plain": [
       "apple          15\n",
       "banana         60\n",
       "orange          0\n",
       "grapes          3\n",
       "pomegranate     3\n",
       "Name: Stock level, dtype: int64"
      ]
     },
     "execution_count": 41,
     "metadata": {},
     "output_type": "execute_result"
    }
   ],
   "source": [
    "stock_series"
   ]
  },
  {
   "cell_type": "code",
   "execution_count": 42,
   "metadata": {},
   "outputs": [
    {
     "data": {
      "text/plain": [
       "apple     1.24\n",
       "banana    1.67\n",
       "orange    1.95\n",
       "grapes    3.24\n",
       "Name: Price ($), dtype: float64"
      ]
     },
     "execution_count": 42,
     "metadata": {},
     "output_type": "execute_result"
    }
   ],
   "source": [
    "price_data = {\n",
    "    'apple': 1.24,\n",
    "    'banana': 1.67,\n",
    "    'orange': 1.95,\n",
    "    'grapes': 3.24\n",
    "}\n",
    "price_series = pd.Series(price_data, name='Price ($)')\n",
    "price_series"
   ]
  },
  {
   "cell_type": "code",
   "execution_count": 43,
   "metadata": {},
   "outputs": [
    {
     "data": {
      "text/html": [
       "<div>\n",
       "<style scoped>\n",
       "    .dataframe tbody tr th:only-of-type {\n",
       "        vertical-align: middle;\n",
       "    }\n",
       "\n",
       "    .dataframe tbody tr th {\n",
       "        vertical-align: top;\n",
       "    }\n",
       "\n",
       "    .dataframe thead th {\n",
       "        text-align: right;\n",
       "    }\n",
       "</style>\n",
       "<table border=\"1\" class=\"dataframe\">\n",
       "  <thead>\n",
       "    <tr style=\"text-align: right;\">\n",
       "      <th></th>\n",
       "      <th>Stock level</th>\n",
       "      <th>Price ($)</th>\n",
       "    </tr>\n",
       "  </thead>\n",
       "  <tbody>\n",
       "    <tr>\n",
       "      <th>apple</th>\n",
       "      <td>15</td>\n",
       "      <td>1.24</td>\n",
       "    </tr>\n",
       "    <tr>\n",
       "      <th>banana</th>\n",
       "      <td>60</td>\n",
       "      <td>1.67</td>\n",
       "    </tr>\n",
       "    <tr>\n",
       "      <th>orange</th>\n",
       "      <td>0</td>\n",
       "      <td>1.95</td>\n",
       "    </tr>\n",
       "    <tr>\n",
       "      <th>grapes</th>\n",
       "      <td>3</td>\n",
       "      <td>3.24</td>\n",
       "    </tr>\n",
       "    <tr>\n",
       "      <th>pomegranate</th>\n",
       "      <td>3</td>\n",
       "      <td>NaN</td>\n",
       "    </tr>\n",
       "  </tbody>\n",
       "</table>\n",
       "</div>"
      ],
      "text/plain": [
       "             Stock level  Price ($)\n",
       "apple                 15       1.24\n",
       "banana                60       1.67\n",
       "orange                 0       1.95\n",
       "grapes                 3       3.24\n",
       "pomegranate            3        NaN"
      ]
     },
     "execution_count": 43,
     "metadata": {},
     "output_type": "execute_result"
    }
   ],
   "source": [
    "df = pd.concat([stock_series, price_series], axis=1, sort=False)\n",
    "df"
   ]
  },
  {
   "cell_type": "code",
   "execution_count": 44,
   "metadata": {},
   "outputs": [
    {
     "data": {
      "text/plain": [
       "apple          15\n",
       "banana         60\n",
       "orange          0\n",
       "grapes          3\n",
       "pomegranate     3\n",
       "Name: Stock level, dtype: int64"
      ]
     },
     "execution_count": 44,
     "metadata": {},
     "output_type": "execute_result"
    }
   ],
   "source": [
    "df['Stock level']"
   ]
  },
  {
   "cell_type": "code",
   "execution_count": 45,
   "metadata": {},
   "outputs": [
    {
     "data": {
      "text/plain": [
       "Stock level    3.00\n",
       "Price ($)      3.24\n",
       "Name: grapes, dtype: float64"
      ]
     },
     "execution_count": 45,
     "metadata": {},
     "output_type": "execute_result"
    }
   ],
   "source": [
    "df.loc['grapes']"
   ]
  },
  {
   "cell_type": "code",
   "execution_count": 46,
   "metadata": {},
   "outputs": [
    {
     "data": {
      "text/plain": [
       "Index(['apple', 'banana', 'orange', 'grapes', 'pomegranate'], dtype='object')"
      ]
     },
     "execution_count": 46,
     "metadata": {},
     "output_type": "execute_result"
    }
   ],
   "source": [
    "df.index"
   ]
  },
  {
   "cell_type": "code",
   "execution_count": 47,
   "metadata": {},
   "outputs": [
    {
     "data": {
      "text/plain": [
       "Index(['Stock level', 'Price ($)'], dtype='object')"
      ]
     },
     "execution_count": 47,
     "metadata": {},
     "output_type": "execute_result"
    }
   ],
   "source": [
    "df.columns"
   ]
  },
  {
   "cell_type": "code",
   "execution_count": 48,
   "metadata": {},
   "outputs": [
    {
     "data": {
      "text/plain": [
       "array([[15.  ,  1.24],\n",
       "       [60.  ,  1.67],\n",
       "       [ 0.  ,  1.95],\n",
       "       [ 3.  ,  3.24],\n",
       "       [ 3.  ,   nan]])"
      ]
     },
     "execution_count": 48,
     "metadata": {},
     "output_type": "execute_result"
    }
   ],
   "source": [
    "df.values"
   ]
  },
  {
   "cell_type": "code",
   "execution_count": 49,
   "metadata": {},
   "outputs": [
    {
     "data": {
      "text/plain": [
       "Stock level      int64\n",
       "Price ($)      float64\n",
       "dtype: object"
      ]
     },
     "execution_count": 49,
     "metadata": {},
     "output_type": "execute_result"
    }
   ],
   "source": [
    "df.dtypes"
   ]
  },
  {
   "cell_type": "code",
   "execution_count": 50,
   "metadata": {},
   "outputs": [
    {
     "data": {
      "text/html": [
       "<div>\n",
       "<style scoped>\n",
       "    .dataframe tbody tr th:only-of-type {\n",
       "        vertical-align: middle;\n",
       "    }\n",
       "\n",
       "    .dataframe tbody tr th {\n",
       "        vertical-align: top;\n",
       "    }\n",
       "\n",
       "    .dataframe thead th {\n",
       "        text-align: right;\n",
       "    }\n",
       "</style>\n",
       "<table border=\"1\" class=\"dataframe\">\n",
       "  <thead>\n",
       "    <tr style=\"text-align: right;\">\n",
       "      <th></th>\n",
       "      <th>Stock level</th>\n",
       "      <th>Price ($)</th>\n",
       "    </tr>\n",
       "  </thead>\n",
       "  <tbody>\n",
       "    <tr>\n",
       "      <th>apple</th>\n",
       "      <td>15</td>\n",
       "      <td>1.24</td>\n",
       "    </tr>\n",
       "    <tr>\n",
       "      <th>banana</th>\n",
       "      <td>60</td>\n",
       "      <td>1.67</td>\n",
       "    </tr>\n",
       "    <tr>\n",
       "      <th>orange</th>\n",
       "      <td>0</td>\n",
       "      <td>1.95</td>\n",
       "    </tr>\n",
       "    <tr>\n",
       "      <th>grapes</th>\n",
       "      <td>3</td>\n",
       "      <td>3.24</td>\n",
       "    </tr>\n",
       "    <tr>\n",
       "      <th>pomegranate</th>\n",
       "      <td>3</td>\n",
       "      <td>NaN</td>\n",
       "    </tr>\n",
       "  </tbody>\n",
       "</table>\n",
       "</div>"
      ],
      "text/plain": [
       "             Stock level  Price ($)\n",
       "apple                 15       1.24\n",
       "banana                60       1.67\n",
       "orange                 0       1.95\n",
       "grapes                 3       3.24\n",
       "pomegranate            3        NaN"
      ]
     },
     "execution_count": 50,
     "metadata": {},
     "output_type": "execute_result"
    }
   ],
   "source": [
    "df"
   ]
  },
  {
   "cell_type": "code",
   "execution_count": 51,
   "metadata": {},
   "outputs": [
    {
     "data": {
      "text/html": [
       "<div>\n",
       "<style scoped>\n",
       "    .dataframe tbody tr th:only-of-type {\n",
       "        vertical-align: middle;\n",
       "    }\n",
       "\n",
       "    .dataframe tbody tr th {\n",
       "        vertical-align: top;\n",
       "    }\n",
       "\n",
       "    .dataframe thead th {\n",
       "        text-align: right;\n",
       "    }\n",
       "</style>\n",
       "<table border=\"1\" class=\"dataframe\">\n",
       "  <thead>\n",
       "    <tr style=\"text-align: right;\">\n",
       "      <th></th>\n",
       "      <th>Stock level</th>\n",
       "      <th>Price ($)</th>\n",
       "      <th>Value in Stock</th>\n",
       "    </tr>\n",
       "  </thead>\n",
       "  <tbody>\n",
       "    <tr>\n",
       "      <th>apple</th>\n",
       "      <td>15</td>\n",
       "      <td>1.24</td>\n",
       "      <td>18.60</td>\n",
       "    </tr>\n",
       "    <tr>\n",
       "      <th>banana</th>\n",
       "      <td>60</td>\n",
       "      <td>1.67</td>\n",
       "      <td>100.20</td>\n",
       "    </tr>\n",
       "    <tr>\n",
       "      <th>orange</th>\n",
       "      <td>0</td>\n",
       "      <td>1.95</td>\n",
       "      <td>0.00</td>\n",
       "    </tr>\n",
       "    <tr>\n",
       "      <th>grapes</th>\n",
       "      <td>3</td>\n",
       "      <td>3.24</td>\n",
       "      <td>9.72</td>\n",
       "    </tr>\n",
       "    <tr>\n",
       "      <th>pomegranate</th>\n",
       "      <td>3</td>\n",
       "      <td>NaN</td>\n",
       "      <td>NaN</td>\n",
       "    </tr>\n",
       "  </tbody>\n",
       "</table>\n",
       "</div>"
      ],
      "text/plain": [
       "             Stock level  Price ($)  Value in Stock\n",
       "apple                 15       1.24           18.60\n",
       "banana                60       1.67          100.20\n",
       "orange                 0       1.95            0.00\n",
       "grapes                 3       3.24            9.72\n",
       "pomegranate            3        NaN             NaN"
      ]
     },
     "execution_count": 51,
     "metadata": {},
     "output_type": "execute_result"
    }
   ],
   "source": [
    "df['Value in Stock'] = df['Stock level'] * df['Price ($)']\n",
    "df"
   ]
  },
  {
   "cell_type": "code",
   "execution_count": 52,
   "metadata": {},
   "outputs": [
    {
     "data": {
      "text/plain": [
       "apple          False\n",
       "banana          True\n",
       "orange         False\n",
       "grapes          True\n",
       "pomegranate    False\n",
       "dtype: bool"
      ]
     },
     "execution_count": 52,
     "metadata": {},
     "output_type": "execute_result"
    }
   ],
   "source": [
    "items_on_sale = {\n",
    "    'banana': True,\n",
    "    'grapes': True,\n",
    "    'coconut': True\n",
    "}\n",
    "promotions = pd.Series(items_on_sale, index=df.index).fillna(False)\n",
    "promotions"
   ]
  },
  {
   "cell_type": "code",
   "execution_count": 53,
   "metadata": {},
   "outputs": [
    {
     "data": {
      "text/html": [
       "<div>\n",
       "<style scoped>\n",
       "    .dataframe tbody tr th:only-of-type {\n",
       "        vertical-align: middle;\n",
       "    }\n",
       "\n",
       "    .dataframe tbody tr th {\n",
       "        vertical-align: top;\n",
       "    }\n",
       "\n",
       "    .dataframe thead th {\n",
       "        text-align: right;\n",
       "    }\n",
       "</style>\n",
       "<table border=\"1\" class=\"dataframe\">\n",
       "  <thead>\n",
       "    <tr style=\"text-align: right;\">\n",
       "      <th></th>\n",
       "      <th>Stock level</th>\n",
       "      <th>Price ($)</th>\n",
       "      <th>Value in Stock</th>\n",
       "      <th>Promotions</th>\n",
       "    </tr>\n",
       "  </thead>\n",
       "  <tbody>\n",
       "    <tr>\n",
       "      <th>apple</th>\n",
       "      <td>15</td>\n",
       "      <td>1.24</td>\n",
       "      <td>18.60</td>\n",
       "      <td>False</td>\n",
       "    </tr>\n",
       "    <tr>\n",
       "      <th>banana</th>\n",
       "      <td>60</td>\n",
       "      <td>1.67</td>\n",
       "      <td>100.20</td>\n",
       "      <td>True</td>\n",
       "    </tr>\n",
       "    <tr>\n",
       "      <th>orange</th>\n",
       "      <td>0</td>\n",
       "      <td>1.95</td>\n",
       "      <td>0.00</td>\n",
       "      <td>False</td>\n",
       "    </tr>\n",
       "    <tr>\n",
       "      <th>grapes</th>\n",
       "      <td>3</td>\n",
       "      <td>3.24</td>\n",
       "      <td>9.72</td>\n",
       "      <td>True</td>\n",
       "    </tr>\n",
       "    <tr>\n",
       "      <th>pomegranate</th>\n",
       "      <td>3</td>\n",
       "      <td>NaN</td>\n",
       "      <td>NaN</td>\n",
       "      <td>False</td>\n",
       "    </tr>\n",
       "  </tbody>\n",
       "</table>\n",
       "</div>"
      ],
      "text/plain": [
       "             Stock level  Price ($)  Value in Stock  Promotions\n",
       "apple                 15       1.24           18.60       False\n",
       "banana                60       1.67          100.20        True\n",
       "orange                 0       1.95            0.00       False\n",
       "grapes                 3       3.24            9.72        True\n",
       "pomegranate            3        NaN             NaN       False"
      ]
     },
     "execution_count": 53,
     "metadata": {},
     "output_type": "execute_result"
    }
   ],
   "source": [
    "df['Promotions'] = promotions\n",
    "df"
   ]
  },
  {
   "cell_type": "code",
   "execution_count": 54,
   "metadata": {},
   "outputs": [
    {
     "data": {
      "text/html": [
       "<div>\n",
       "<style scoped>\n",
       "    .dataframe tbody tr th:only-of-type {\n",
       "        vertical-align: middle;\n",
       "    }\n",
       "\n",
       "    .dataframe tbody tr th {\n",
       "        vertical-align: top;\n",
       "    }\n",
       "\n",
       "    .dataframe thead th {\n",
       "        text-align: right;\n",
       "    }\n",
       "</style>\n",
       "<table border=\"1\" class=\"dataframe\">\n",
       "  <thead>\n",
       "    <tr style=\"text-align: right;\">\n",
       "      <th></th>\n",
       "      <th>Stock level</th>\n",
       "      <th>Price ($)</th>\n",
       "      <th>Value in Stock</th>\n",
       "      <th>Promotions</th>\n",
       "    </tr>\n",
       "  </thead>\n",
       "  <tbody>\n",
       "    <tr>\n",
       "      <th>apple</th>\n",
       "      <td>15</td>\n",
       "      <td>1.24</td>\n",
       "      <td>18.60</td>\n",
       "      <td>False</td>\n",
       "    </tr>\n",
       "    <tr>\n",
       "      <th>banana</th>\n",
       "      <td>60</td>\n",
       "      <td>1.67</td>\n",
       "      <td>100.20</td>\n",
       "      <td>True</td>\n",
       "    </tr>\n",
       "    <tr>\n",
       "      <th>orange</th>\n",
       "      <td>0</td>\n",
       "      <td>1.95</td>\n",
       "      <td>0.00</td>\n",
       "      <td>False</td>\n",
       "    </tr>\n",
       "    <tr>\n",
       "      <th>grapes</th>\n",
       "      <td>3</td>\n",
       "      <td>3.24</td>\n",
       "      <td>9.72</td>\n",
       "      <td>True</td>\n",
       "    </tr>\n",
       "  </tbody>\n",
       "</table>\n",
       "</div>"
      ],
      "text/plain": [
       "        Stock level  Price ($)  Value in Stock  Promotions\n",
       "apple            15       1.24           18.60       False\n",
       "banana           60       1.67          100.20        True\n",
       "orange            0       1.95            0.00       False\n",
       "grapes            3       3.24            9.72        True"
      ]
     },
     "execution_count": 54,
     "metadata": {},
     "output_type": "execute_result"
    }
   ],
   "source": [
    "df.dropna()"
   ]
  },
  {
   "cell_type": "code",
   "execution_count": 55,
   "metadata": {},
   "outputs": [
    {
     "data": {
      "text/html": [
       "<div>\n",
       "<style scoped>\n",
       "    .dataframe tbody tr th:only-of-type {\n",
       "        vertical-align: middle;\n",
       "    }\n",
       "\n",
       "    .dataframe tbody tr th {\n",
       "        vertical-align: top;\n",
       "    }\n",
       "\n",
       "    .dataframe thead th {\n",
       "        text-align: right;\n",
       "    }\n",
       "</style>\n",
       "<table border=\"1\" class=\"dataframe\">\n",
       "  <thead>\n",
       "    <tr style=\"text-align: right;\">\n",
       "      <th></th>\n",
       "      <th>Stock level</th>\n",
       "      <th>Price ($)</th>\n",
       "      <th>Value in Stock</th>\n",
       "    </tr>\n",
       "  </thead>\n",
       "  <tbody>\n",
       "    <tr>\n",
       "      <th>count</th>\n",
       "      <td>5.000000</td>\n",
       "      <td>4.000000</td>\n",
       "      <td>4.000000</td>\n",
       "    </tr>\n",
       "    <tr>\n",
       "      <th>mean</th>\n",
       "      <td>16.200000</td>\n",
       "      <td>2.025000</td>\n",
       "      <td>32.130000</td>\n",
       "    </tr>\n",
       "    <tr>\n",
       "      <th>std</th>\n",
       "      <td>25.153529</td>\n",
       "      <td>0.861027</td>\n",
       "      <td>46.011342</td>\n",
       "    </tr>\n",
       "    <tr>\n",
       "      <th>min</th>\n",
       "      <td>0.000000</td>\n",
       "      <td>1.240000</td>\n",
       "      <td>0.000000</td>\n",
       "    </tr>\n",
       "    <tr>\n",
       "      <th>25%</th>\n",
       "      <td>3.000000</td>\n",
       "      <td>1.562500</td>\n",
       "      <td>7.290000</td>\n",
       "    </tr>\n",
       "    <tr>\n",
       "      <th>50%</th>\n",
       "      <td>3.000000</td>\n",
       "      <td>1.810000</td>\n",
       "      <td>14.160000</td>\n",
       "    </tr>\n",
       "    <tr>\n",
       "      <th>75%</th>\n",
       "      <td>15.000000</td>\n",
       "      <td>2.272500</td>\n",
       "      <td>39.000000</td>\n",
       "    </tr>\n",
       "    <tr>\n",
       "      <th>max</th>\n",
       "      <td>60.000000</td>\n",
       "      <td>3.240000</td>\n",
       "      <td>100.200000</td>\n",
       "    </tr>\n",
       "  </tbody>\n",
       "</table>\n",
       "</div>"
      ],
      "text/plain": [
       "       Stock level  Price ($)  Value in Stock\n",
       "count     5.000000   4.000000        4.000000\n",
       "mean     16.200000   2.025000       32.130000\n",
       "std      25.153529   0.861027       46.011342\n",
       "min       0.000000   1.240000        0.000000\n",
       "25%       3.000000   1.562500        7.290000\n",
       "50%       3.000000   1.810000       14.160000\n",
       "75%      15.000000   2.272500       39.000000\n",
       "max      60.000000   3.240000      100.200000"
      ]
     },
     "execution_count": 55,
     "metadata": {},
     "output_type": "execute_result"
    }
   ],
   "source": [
    "df.describe()"
   ]
  },
  {
   "cell_type": "code",
   "execution_count": 56,
   "metadata": {},
   "outputs": [
    {
     "data": {
      "image/png": "[encoded data removed]",
      "text/plain": [
       "<Figure size 432x288 with 1 Axes>"
      ]
     },
     "metadata": {
      "needs_background": "light"
     },
     "output_type": "display_data"
    }
   ],
   "source": [
    "df['Stock level'].hist()\n",
    "plt.show()"
   ]
  },
  {
   "cell_type": "code",
   "execution_count": 57,
   "metadata": {},
   "outputs": [
    {
     "data": {
      "image/png": "[encoded data removed]",
      "text/plain": [
       "<Figure size 432x288 with 1 Axes>"
      ]
     },
     "metadata": {
      "needs_background": "light"
     },
     "output_type": "display_data"
    }
   ],
   "source": [
    "df['Value in Stock'].dropna().sort_values().plot.barh(title='Stock Value')\n",
    "plt.xlabel('$')\n",
    "plt.grid()\n",
    "plt.show()"
   ]
  },
  {
   "cell_type": "code",
   "execution_count": 58,
   "metadata": {},
   "outputs": [
    {
     "data": {
      "text/html": [
       "<div>\n",
       "<style scoped>\n",
       "    .dataframe tbody tr th:only-of-type {\n",
       "        vertical-align: middle;\n",
       "    }\n",
       "\n",
       "    .dataframe tbody tr th {\n",
       "        vertical-align: top;\n",
       "    }\n",
       "\n",
       "    .dataframe thead th {\n",
       "        text-align: right;\n",
       "    }\n",
       "</style>\n",
       "<table border=\"1\" class=\"dataframe\">\n",
       "  <thead>\n",
       "    <tr style=\"text-align: right;\">\n",
       "      <th></th>\n",
       "      <th>Stock level</th>\n",
       "      <th>Price ($)</th>\n",
       "      <th>Value in Stock</th>\n",
       "      <th>Promotions</th>\n",
       "    </tr>\n",
       "  </thead>\n",
       "  <tbody>\n",
       "    <tr>\n",
       "      <th>apple</th>\n",
       "      <td>15</td>\n",
       "      <td>1.24</td>\n",
       "      <td>18.60</td>\n",
       "      <td>False</td>\n",
       "    </tr>\n",
       "    <tr>\n",
       "      <th>banana</th>\n",
       "      <td>60</td>\n",
       "      <td>1.67</td>\n",
       "      <td>100.20</td>\n",
       "      <td>True</td>\n",
       "    </tr>\n",
       "    <tr>\n",
       "      <th>orange</th>\n",
       "      <td>0</td>\n",
       "      <td>1.95</td>\n",
       "      <td>0.00</td>\n",
       "      <td>False</td>\n",
       "    </tr>\n",
       "    <tr>\n",
       "      <th>grapes</th>\n",
       "      <td>3</td>\n",
       "      <td>3.24</td>\n",
       "      <td>9.72</td>\n",
       "      <td>True</td>\n",
       "    </tr>\n",
       "    <tr>\n",
       "      <th>pomegranate</th>\n",
       "      <td>3</td>\n",
       "      <td>NaN</td>\n",
       "      <td>NaN</td>\n",
       "      <td>False</td>\n",
       "    </tr>\n",
       "  </tbody>\n",
       "</table>\n",
       "</div>"
      ],
      "text/plain": [
       "             Stock level  Price ($)  Value in Stock  Promotions\n",
       "apple                 15       1.24           18.60       False\n",
       "banana                60       1.67          100.20        True\n",
       "orange                 0       1.95            0.00       False\n",
       "grapes                 3       3.24            9.72        True\n",
       "pomegranate            3        NaN             NaN       False"
      ]
     },
     "execution_count": 58,
     "metadata": {},
     "output_type": "execute_result"
    }
   ],
   "source": [
    "df"
   ]
  },
  {
   "cell_type": "code",
   "execution_count": 59,
   "metadata": {},
   "outputs": [
    {
     "data": {
      "text/plain": [
       "banana    60\n",
       "grapes     3\n",
       "Name: Stock level, dtype: int64"
      ]
     },
     "execution_count": 59,
     "metadata": {},
     "output_type": "execute_result"
    }
   ],
   "source": [
    "df.loc[df['Promotions'], 'Stock level']"
   ]
  },
  {
   "cell_type": "code",
   "execution_count": 60,
   "metadata": {},
   "outputs": [
    {
     "data": {
      "text/plain": [
       "9.72"
      ]
     },
     "execution_count": 60,
     "metadata": {},
     "output_type": "execute_result"
    }
   ],
   "source": [
    "df.loc[df['Stock level'] < 10]['Value in Stock'].sum()"
   ]
  },
  {
   "cell_type": "markdown",
   "metadata": {},
   "source": [
    "## Saving"
   ]
  },
  {
   "cell_type": "code",
   "execution_count": 61,
   "metadata": {},
   "outputs": [],
   "source": [
    "df.to_csv('stock_data.csv')"
   ]
  },
  {
   "cell_type": "code",
   "execution_count": null,
   "metadata": {},
   "outputs": [],
   "source": []
  },
  {
   "cell_type": "markdown",
   "metadata": {},
   "source": [
    "## Example with Real Data"
   ]
  },
  {
   "cell_type": "code",
   "execution_count": 137,
   "metadata": {},
   "outputs": [],
   "source": [
    "import os"
   ]
  },
  {
   "cell_type": "code",
   "execution_count": 139,
   "metadata": {},
   "outputs": [
    {
     "data": {
      "text/html": [
       "<div>\n",
       "<style scoped>\n",
       "    .dataframe tbody tr th:only-of-type {\n",
       "        vertical-align: middle;\n",
       "    }\n",
       "\n",
       "    .dataframe tbody tr th {\n",
       "        vertical-align: top;\n",
       "    }\n",
       "\n",
       "    .dataframe thead th {\n",
       "        text-align: right;\n",
       "    }\n",
       "</style>\n",
       "<table border=\"1\" class=\"dataframe\">\n",
       "  <thead>\n",
       "    <tr style=\"text-align: right;\">\n",
       "      <th></th>\n",
       "      <th>Units</th>\n",
       "      <th>Tag</th>\n",
       "    </tr>\n",
       "    <tr>\n",
       "      <th>Name</th>\n",
       "      <th></th>\n",
       "      <th></th>\n",
       "    </tr>\n",
       "  </thead>\n",
       "  <tbody>\n",
       "    <tr>\n",
       "      <th>Prim Crusher Power</th>\n",
       "      <td>kW</td>\n",
       "      <td>310-JI-20211</td>\n",
       "    </tr>\n",
       "    <tr>\n",
       "      <th>Fresh Feed</th>\n",
       "      <td>MTPH</td>\n",
       "      <td>315-WQI-20327</td>\n",
       "    </tr>\n",
       "    <tr>\n",
       "      <th>Total SAG Feed</th>\n",
       "      <td>MTPH</td>\n",
       "      <td>315-WQI-20325</td>\n",
       "    </tr>\n",
       "    <tr>\n",
       "      <th>SAG Feed Density</th>\n",
       "      <td>%Sol</td>\n",
       "      <td>320-FX-20731A</td>\n",
       "    </tr>\n",
       "    <tr>\n",
       "      <th>Fresh Water Flowrate</th>\n",
       "      <td>m3/hr</td>\n",
       "      <td>360-FI-23704</td>\n",
       "    </tr>\n",
       "  </tbody>\n",
       "</table>\n",
       "</div>"
      ],
      "text/plain": [
       "                      Units            Tag\n",
       "Name                                      \n",
       "Prim Crusher Power       kW   310-JI-20211\n",
       "Fresh Feed             MTPH  315-WQI-20327\n",
       "Total SAG Feed         MTPH  315-WQI-20325\n",
       "SAG Feed Density       %Sol  320-FX-20731A\n",
       "Fresh Water Flowrate  m3/hr   360-FI-23704"
      ]
     },
     "execution_count": 139,
     "metadata": {},
     "output_type": "execute_result"
    }
   ],
   "source": [
    "filename = 'DCS grinding historical Rst data April 4th 2012.xlsx'\n",
    "filepath = os.path.join('data', filename)\n",
    "df = pd.read_excel(filepath, header=None)\n",
    "\n",
    "# Need to deal with first 3 header rows\n",
    "#df.loc[0:2]\n",
    "\n",
    "# Save info for later\n",
    "info = df.loc[0:2].transpose().drop(0)\n",
    "info.columns = ['Name', 'Units', 'Tag']\n",
    "info = info.set_index('Name')\n",
    "info.head()"
   ]
  },
  {
   "cell_type": "code",
   "execution_count": 140,
   "metadata": {},
   "outputs": [
    {
     "data": {
      "text/html": [
       "<div>\n",
       "<style scoped>\n",
       "    .dataframe tbody tr th:only-of-type {\n",
       "        vertical-align: middle;\n",
       "    }\n",
       "\n",
       "    .dataframe tbody tr th {\n",
       "        vertical-align: top;\n",
       "    }\n",
       "\n",
       "    .dataframe thead th {\n",
       "        text-align: right;\n",
       "    }\n",
       "</style>\n",
       "<table border=\"1\" class=\"dataframe\">\n",
       "  <thead>\n",
       "    <tr style=\"text-align: right;\">\n",
       "      <th></th>\n",
       "      <th>Prim Crusher Power</th>\n",
       "      <th>Fresh Feed</th>\n",
       "      <th>Total SAG Feed</th>\n",
       "      <th>SAG Feed Density</th>\n",
       "      <th>Fresh Water Flowrate</th>\n",
       "      <th>Reclaim Water Flowrate</th>\n",
       "      <th>Discharge Right</th>\n",
       "      <th>SAG Sound 1</th>\n",
       "      <th>SAG Sound 2</th>\n",
       "      <th>SAG Power</th>\n",
       "      <th>...</th>\n",
       "      <th>BM1 CYC Feed Flowrate</th>\n",
       "      <th>BM2 CYC Feed Flowrate</th>\n",
       "      <th>BM1 Speed</th>\n",
       "      <th>BM2 Speed</th>\n",
       "      <th>BM1 CYC Feed Water</th>\n",
       "      <th>BM2 CYC Feed Water</th>\n",
       "      <th>BM1 CYC Feed Density</th>\n",
       "      <th>BM2 CYC Feed Density</th>\n",
       "      <th>BM1 CYC Press.</th>\n",
       "      <th>BM2 CYC Press.</th>\n",
       "    </tr>\n",
       "    <tr>\n",
       "      <th>Timestamp</th>\n",
       "      <th></th>\n",
       "      <th></th>\n",
       "      <th></th>\n",
       "      <th></th>\n",
       "      <th></th>\n",
       "      <th></th>\n",
       "      <th></th>\n",
       "      <th></th>\n",
       "      <th></th>\n",
       "      <th></th>\n",
       "      <th></th>\n",
       "      <th></th>\n",
       "      <th></th>\n",
       "      <th></th>\n",
       "      <th></th>\n",
       "      <th></th>\n",
       "      <th></th>\n",
       "      <th></th>\n",
       "      <th></th>\n",
       "      <th></th>\n",
       "      <th></th>\n",
       "    </tr>\n",
       "  </thead>\n",
       "  <tbody>\n",
       "    <tr>\n",
       "      <th>2012-04-04 05:30:00</th>\n",
       "      <td>70.2831</td>\n",
       "      <td>1264.64</td>\n",
       "      <td>1586.36</td>\n",
       "      <td>63.0536</td>\n",
       "      <td>1068.44</td>\n",
       "      <td>1805.33</td>\n",
       "      <td>6831.73</td>\n",
       "      <td>111.918</td>\n",
       "      <td>111.413</td>\n",
       "      <td>13116</td>\n",
       "      <td>...</td>\n",
       "      <td>3982.06</td>\n",
       "      <td>4350.93</td>\n",
       "      <td>12.09</td>\n",
       "      <td>12.11</td>\n",
       "      <td>214.465</td>\n",
       "      <td>217.51</td>\n",
       "      <td>47.3381</td>\n",
       "      <td>43.5599</td>\n",
       "      <td>43.4479</td>\n",
       "      <td>48.8423</td>\n",
       "    </tr>\n",
       "    <tr>\n",
       "      <th>2012-04-04 05:31:00</th>\n",
       "      <td>60.5936</td>\n",
       "      <td>1234.74</td>\n",
       "      <td>1669.76</td>\n",
       "      <td>62.6013</td>\n",
       "      <td>1061.42</td>\n",
       "      <td>1802.52</td>\n",
       "      <td>6825</td>\n",
       "      <td>112.494</td>\n",
       "      <td>112.096</td>\n",
       "      <td>12903</td>\n",
       "      <td>...</td>\n",
       "      <td>4113.21</td>\n",
       "      <td>4311.93</td>\n",
       "      <td>12.1</td>\n",
       "      <td>12.11</td>\n",
       "      <td>216.571</td>\n",
       "      <td>209.407</td>\n",
       "      <td>47.4083</td>\n",
       "      <td>43.679</td>\n",
       "      <td>41.7285</td>\n",
       "      <td>48.4962</td>\n",
       "    </tr>\n",
       "    <tr>\n",
       "      <th>2012-04-04 05:32:00</th>\n",
       "      <td>0</td>\n",
       "      <td>1268.25</td>\n",
       "      <td>1596.89</td>\n",
       "      <td>62.1362</td>\n",
       "      <td>1068.44</td>\n",
       "      <td>1796.9</td>\n",
       "      <td>6865.4</td>\n",
       "      <td>113.106</td>\n",
       "      <td>110.515</td>\n",
       "      <td>12873</td>\n",
       "      <td>...</td>\n",
       "      <td>4050.19</td>\n",
       "      <td>4562.5</td>\n",
       "      <td>12.1</td>\n",
       "      <td>12.1</td>\n",
       "      <td>212.863</td>\n",
       "      <td>215.93</td>\n",
       "      <td>46.9444</td>\n",
       "      <td>45.069</td>\n",
       "      <td>42.851</td>\n",
       "      <td>43.827</td>\n",
       "    </tr>\n",
       "    <tr>\n",
       "      <th>2012-04-04 05:33:00</th>\n",
       "      <td>0</td>\n",
       "      <td>1282.12</td>\n",
       "      <td>1646.42</td>\n",
       "      <td>64.2787</td>\n",
       "      <td>1066.68</td>\n",
       "      <td>1805.33</td>\n",
       "      <td>6816.16</td>\n",
       "      <td>113.012</td>\n",
       "      <td>111.894</td>\n",
       "      <td>13073</td>\n",
       "      <td>...</td>\n",
       "      <td>4040.79</td>\n",
       "      <td>4499.12</td>\n",
       "      <td>12.11</td>\n",
       "      <td>12.09</td>\n",
       "      <td>214.465</td>\n",
       "      <td>215.404</td>\n",
       "      <td>46.2989</td>\n",
       "      <td>43.2792</td>\n",
       "      <td>45.9766</td>\n",
       "      <td>48.8844</td>\n",
       "    </tr>\n",
       "    <tr>\n",
       "      <th>2012-04-04 05:34:00</th>\n",
       "      <td>0</td>\n",
       "      <td>1311.01</td>\n",
       "      <td>1712.75</td>\n",
       "      <td>62.7837</td>\n",
       "      <td>1064.93</td>\n",
       "      <td>1795.19</td>\n",
       "      <td>6849.83</td>\n",
       "      <td>113.492</td>\n",
       "      <td>112.096</td>\n",
       "      <td>12858</td>\n",
       "      <td>...</td>\n",
       "      <td>4084.91</td>\n",
       "      <td>4366.29</td>\n",
       "      <td>12.12</td>\n",
       "      <td>12.11</td>\n",
       "      <td>213.939</td>\n",
       "      <td>210.987</td>\n",
       "      <td>47.6539</td>\n",
       "      <td>45.42</td>\n",
       "      <td>42.8089</td>\n",
       "      <td>49.9117</td>\n",
       "    </tr>\n",
       "  </tbody>\n",
       "</table>\n",
       "<p>5 rows × 28 columns</p>\n",
       "</div>"
      ],
      "text/plain": [
       "                    Prim Crusher Power Fresh Feed Total SAG Feed  \\\n",
       "Timestamp                                                          \n",
       "2012-04-04 05:30:00            70.2831    1264.64        1586.36   \n",
       "2012-04-04 05:31:00            60.5936    1234.74        1669.76   \n",
       "2012-04-04 05:32:00                  0    1268.25        1596.89   \n",
       "2012-04-04 05:33:00                  0    1282.12        1646.42   \n",
       "2012-04-04 05:34:00                  0    1311.01        1712.75   \n",
       "\n",
       "                    SAG Feed Density Fresh Water Flowrate  \\\n",
       "Timestamp                                                   \n",
       "2012-04-04 05:30:00          63.0536              1068.44   \n",
       "2012-04-04 05:31:00          62.6013              1061.42   \n",
       "2012-04-04 05:32:00          62.1362              1068.44   \n",
       "2012-04-04 05:33:00          64.2787              1066.68   \n",
       "2012-04-04 05:34:00          62.7837              1064.93   \n",
       "\n",
       "                    Reclaim Water Flowrate Discharge Right SAG Sound 1  \\\n",
       "Timestamp                                                                \n",
       "2012-04-04 05:30:00                1805.33         6831.73     111.918   \n",
       "2012-04-04 05:31:00                1802.52            6825     112.494   \n",
       "2012-04-04 05:32:00                 1796.9          6865.4     113.106   \n",
       "2012-04-04 05:33:00                1805.33         6816.16     113.012   \n",
       "2012-04-04 05:34:00                1795.19         6849.83     113.492   \n",
       "\n",
       "                    SAG Sound 2 SAG Power  ... BM1 CYC Feed Flowrate  \\\n",
       "Timestamp                                  ...                         \n",
       "2012-04-04 05:30:00     111.413     13116  ...               3982.06   \n",
       "2012-04-04 05:31:00     112.096     12903  ...               4113.21   \n",
       "2012-04-04 05:32:00     110.515     12873  ...               4050.19   \n",
       "2012-04-04 05:33:00     111.894     13073  ...               4040.79   \n",
       "2012-04-04 05:34:00     112.096     12858  ...               4084.91   \n",
       "\n",
       "                    BM2 CYC Feed Flowrate BM1 Speed BM2 Speed  \\\n",
       "Timestamp                                                       \n",
       "2012-04-04 05:30:00               4350.93     12.09     12.11   \n",
       "2012-04-04 05:31:00               4311.93      12.1     12.11   \n",
       "2012-04-04 05:32:00                4562.5      12.1      12.1   \n",
       "2012-04-04 05:33:00               4499.12     12.11     12.09   \n",
       "2012-04-04 05:34:00               4366.29     12.12     12.11   \n",
       "\n",
       "                    BM1 CYC Feed Water  BM2 CYC Feed Water   \\\n",
       "Timestamp                                                     \n",
       "2012-04-04 05:30:00             214.465              217.51   \n",
       "2012-04-04 05:31:00             216.571             209.407   \n",
       "2012-04-04 05:32:00             212.863              215.93   \n",
       "2012-04-04 05:33:00             214.465             215.404   \n",
       "2012-04-04 05:34:00             213.939             210.987   \n",
       "\n",
       "                    BM1 CYC Feed Density BM2 CYC Feed Density BM1 CYC Press.  \\\n",
       "Timestamp                                                                      \n",
       "2012-04-04 05:30:00              47.3381              43.5599        43.4479   \n",
       "2012-04-04 05:31:00              47.4083               43.679        41.7285   \n",
       "2012-04-04 05:32:00              46.9444               45.069         42.851   \n",
       "2012-04-04 05:33:00              46.2989              43.2792        45.9766   \n",
       "2012-04-04 05:34:00              47.6539                45.42        42.8089   \n",
       "\n",
       "                    BM2 CYC Press.  \n",
       "Timestamp                           \n",
       "2012-04-04 05:30:00        48.8423  \n",
       "2012-04-04 05:31:00        48.4962  \n",
       "2012-04-04 05:32:00         43.827  \n",
       "2012-04-04 05:33:00        48.8844  \n",
       "2012-04-04 05:34:00        49.9117  \n",
       "\n",
       "[5 rows x 28 columns]"
      ]
     },
     "execution_count": 140,
     "metadata": {},
     "output_type": "execute_result"
    }
   ],
   "source": [
    "# Trim rows and set columns and index\n",
    "df.loc[0, 0] = 'Timestamp'\n",
    "df.columns = df.loc[0]\n",
    "df.columns.name = None\n",
    "df = df.loc[3:]\n",
    "df = df.set_index('Timestamp')\n",
    "df.head()"
   ]
  },
  {
   "cell_type": "code",
   "execution_count": 93,
   "metadata": {},
   "outputs": [
    {
     "data": {
      "text/plain": [
       "(2880, 28)"
      ]
     },
     "execution_count": 93,
     "metadata": {},
     "output_type": "execute_result"
    }
   ],
   "source": [
    "df.shape"
   ]
  },
  {
   "cell_type": "code",
   "execution_count": 100,
   "metadata": {},
   "outputs": [
    {
     "data": {
      "text/plain": [
       "Prim Crusher Power        float64\n",
       "Fresh Feed                float64\n",
       "Total SAG Feed            float64\n",
       "SAG Feed Density          float64\n",
       "Fresh Water Flowrate      float64\n",
       "Reclaim Water Flowrate    float64\n",
       "Discharge Right           float64\n",
       "SAG Sound 1               float64\n",
       "SAG Sound 2               float64\n",
       "SAG Power                   int64\n",
       "SAG Speed                 float64\n",
       "SAG Lube Temp             float64\n",
       "Pebble Return Load        float64\n",
       "Pebble Crusher Power      float64\n",
       "Pebble Crusher CCS        float64\n",
       "CV6                       float64\n",
       "BM1 Power                   int64\n",
       "BM2 Power                   int64\n",
       "BM1 CYC Feed Flowrate     float64\n",
       "BM2 CYC Feed Flowrate     float64\n",
       "BM1 Speed                 float64\n",
       "BM2 Speed                 float64\n",
       "BM1 CYC Feed Water        float64\n",
       "BM2 CYC Feed Water        float64\n",
       "BM1 CYC Feed Density      float64\n",
       "BM2 CYC Feed Density      float64\n",
       "BM1 CYC Press.            float64\n",
       "BM2 CYC Press.            float64\n",
       "dtype: object"
      ]
     },
     "execution_count": 100,
     "metadata": {},
     "output_type": "execute_result"
    }
   ],
   "source": [
    "for col in df:\n",
    "    df[col] = pd.to_numeric(df[col])\n",
    "df.dtypes"
   ]
  },
  {
   "cell_type": "code",
   "execution_count": 101,
   "metadata": {},
   "outputs": [
    {
     "data": {
      "text/plain": [
       "Prim Crusher Power        0\n",
       "Fresh Feed                0\n",
       "Total SAG Feed            0\n",
       "SAG Feed Density          0\n",
       "Fresh Water Flowrate      0\n",
       "Reclaim Water Flowrate    0\n",
       "Discharge Right           0\n",
       "SAG Sound 1               0\n",
       "SAG Sound 2               0\n",
       "SAG Power                 0\n",
       "SAG Speed                 0\n",
       "SAG Lube Temp             0\n",
       "Pebble Return Load        0\n",
       "Pebble Crusher Power      0\n",
       "Pebble Crusher CCS        0\n",
       "CV6                       0\n",
       "BM1 Power                 0\n",
       "BM2 Power                 0\n",
       "BM1 CYC Feed Flowrate     0\n",
       "BM2 CYC Feed Flowrate     0\n",
       "BM1 Speed                 0\n",
       "BM2 Speed                 0\n",
       "BM1 CYC Feed Water        0\n",
       "BM2 CYC Feed Water        0\n",
       "BM1 CYC Feed Density      0\n",
       "BM2 CYC Feed Density      0\n",
       "BM1 CYC Press.            0\n",
       "BM2 CYC Press.            0\n",
       "dtype: int64"
      ]
     },
     "execution_count": 101,
     "metadata": {},
     "output_type": "execute_result"
    }
   ],
   "source": [
    "df.isna().sum()"
   ]
  },
  {
   "cell_type": "code",
   "execution_count": 106,
   "metadata": {},
   "outputs": [
    {
     "data": {
      "text/html": [
       "<div>\n",
       "<style scoped>\n",
       "    .dataframe tbody tr th:only-of-type {\n",
       "        vertical-align: middle;\n",
       "    }\n",
       "\n",
       "    .dataframe tbody tr th {\n",
       "        vertical-align: top;\n",
       "    }\n",
       "\n",
       "    .dataframe thead th {\n",
       "        text-align: right;\n",
       "    }\n",
       "</style>\n",
       "<table border=\"1\" class=\"dataframe\">\n",
       "  <thead>\n",
       "    <tr style=\"text-align: right;\">\n",
       "      <th></th>\n",
       "      <th>count</th>\n",
       "      <th>min</th>\n",
       "      <th>max</th>\n",
       "    </tr>\n",
       "  </thead>\n",
       "  <tbody>\n",
       "    <tr>\n",
       "      <th>Prim Crusher Power</th>\n",
       "      <td>2880.0</td>\n",
       "      <td>0.000000</td>\n",
       "      <td>1000.00000</td>\n",
       "    </tr>\n",
       "    <tr>\n",
       "      <th>Fresh Feed</th>\n",
       "      <td>2880.0</td>\n",
       "      <td>1.464866</td>\n",
       "      <td>1514.71700</td>\n",
       "    </tr>\n",
       "    <tr>\n",
       "      <th>Total SAG Feed</th>\n",
       "      <td>2880.0</td>\n",
       "      <td>0.595102</td>\n",
       "      <td>2256.48900</td>\n",
       "    </tr>\n",
       "    <tr>\n",
       "      <th>SAG Feed Density</th>\n",
       "      <td>2880.0</td>\n",
       "      <td>0.274515</td>\n",
       "      <td>119.26610</td>\n",
       "    </tr>\n",
       "    <tr>\n",
       "      <th>Fresh Water Flowrate</th>\n",
       "      <td>2880.0</td>\n",
       "      <td>8.010986</td>\n",
       "      <td>1098.95500</td>\n",
       "    </tr>\n",
       "    <tr>\n",
       "      <th>Reclaim Water Flowrate</th>\n",
       "      <td>2880.0</td>\n",
       "      <td>0.000000</td>\n",
       "      <td>2752.78900</td>\n",
       "    </tr>\n",
       "    <tr>\n",
       "      <th>Discharge Right</th>\n",
       "      <td>2880.0</td>\n",
       "      <td>6302.750000</td>\n",
       "      <td>7690.64200</td>\n",
       "    </tr>\n",
       "    <tr>\n",
       "      <th>SAG Sound 1</th>\n",
       "      <td>2880.0</td>\n",
       "      <td>103.677300</td>\n",
       "      <td>117.12610</td>\n",
       "    </tr>\n",
       "    <tr>\n",
       "      <th>SAG Sound 2</th>\n",
       "      <td>2880.0</td>\n",
       "      <td>101.673600</td>\n",
       "      <td>116.27330</td>\n",
       "    </tr>\n",
       "    <tr>\n",
       "      <th>SAG Power</th>\n",
       "      <td>2880.0</td>\n",
       "      <td>-36.000000</td>\n",
       "      <td>13285.00000</td>\n",
       "    </tr>\n",
       "    <tr>\n",
       "      <th>SAG Speed</th>\n",
       "      <td>2880.0</td>\n",
       "      <td>-2.750000</td>\n",
       "      <td>10.38000</td>\n",
       "    </tr>\n",
       "    <tr>\n",
       "      <th>SAG Lube Temp</th>\n",
       "      <td>2880.0</td>\n",
       "      <td>36.101320</td>\n",
       "      <td>41.81735</td>\n",
       "    </tr>\n",
       "    <tr>\n",
       "      <th>Pebble Return Load</th>\n",
       "      <td>2880.0</td>\n",
       "      <td>0.000000</td>\n",
       "      <td>424.12450</td>\n",
       "    </tr>\n",
       "    <tr>\n",
       "      <th>Pebble Crusher Power</th>\n",
       "      <td>2880.0</td>\n",
       "      <td>0.000000</td>\n",
       "      <td>435.41310</td>\n",
       "    </tr>\n",
       "    <tr>\n",
       "      <th>Pebble Crusher CCS</th>\n",
       "      <td>2880.0</td>\n",
       "      <td>1.386002</td>\n",
       "      <td>18.24901</td>\n",
       "    </tr>\n",
       "    <tr>\n",
       "      <th>CV6</th>\n",
       "      <td>2880.0</td>\n",
       "      <td>0.360113</td>\n",
       "      <td>400.00000</td>\n",
       "    </tr>\n",
       "    <tr>\n",
       "      <th>BM1 Power</th>\n",
       "      <td>2880.0</td>\n",
       "      <td>-34.000000</td>\n",
       "      <td>12534.00000</td>\n",
       "    </tr>\n",
       "    <tr>\n",
       "      <th>BM2 Power</th>\n",
       "      <td>2880.0</td>\n",
       "      <td>-33.000000</td>\n",
       "      <td>12594.00000</td>\n",
       "    </tr>\n",
       "    <tr>\n",
       "      <th>BM1 CYC Feed Flowrate</th>\n",
       "      <td>2880.0</td>\n",
       "      <td>19.267570</td>\n",
       "      <td>5140.43800</td>\n",
       "    </tr>\n",
       "    <tr>\n",
       "      <th>BM2 CYC Feed Flowrate</th>\n",
       "      <td>2880.0</td>\n",
       "      <td>0.837720</td>\n",
       "      <td>6094.78700</td>\n",
       "    </tr>\n",
       "    <tr>\n",
       "      <th>BM1 Speed</th>\n",
       "      <td>2880.0</td>\n",
       "      <td>-0.090000</td>\n",
       "      <td>12.14000</td>\n",
       "    </tr>\n",
       "    <tr>\n",
       "      <th>BM2 Speed</th>\n",
       "      <td>2880.0</td>\n",
       "      <td>-0.050000</td>\n",
       "      <td>12.15000</td>\n",
       "    </tr>\n",
       "    <tr>\n",
       "      <th>BM1 CYC Feed Water</th>\n",
       "      <td>2880.0</td>\n",
       "      <td>0.000000</td>\n",
       "      <td>712.70310</td>\n",
       "    </tr>\n",
       "    <tr>\n",
       "      <th>BM2 CYC Feed Water</th>\n",
       "      <td>2880.0</td>\n",
       "      <td>0.000000</td>\n",
       "      <td>688.69310</td>\n",
       "    </tr>\n",
       "    <tr>\n",
       "      <th>BM1 CYC Feed Density</th>\n",
       "      <td>2880.0</td>\n",
       "      <td>0.000000</td>\n",
       "      <td>64.44495</td>\n",
       "    </tr>\n",
       "    <tr>\n",
       "      <th>BM2 CYC Feed Density</th>\n",
       "      <td>2880.0</td>\n",
       "      <td>0.000000</td>\n",
       "      <td>62.11948</td>\n",
       "    </tr>\n",
       "    <tr>\n",
       "      <th>BM1 CYC Press.</th>\n",
       "      <td>2880.0</td>\n",
       "      <td>0.000000</td>\n",
       "      <td>93.07576</td>\n",
       "    </tr>\n",
       "    <tr>\n",
       "      <th>BM2 CYC Press.</th>\n",
       "      <td>2880.0</td>\n",
       "      <td>0.000000</td>\n",
       "      <td>91.02678</td>\n",
       "    </tr>\n",
       "  </tbody>\n",
       "</table>\n",
       "</div>"
      ],
      "text/plain": [
       "                         count          min          max\n",
       "Prim Crusher Power      2880.0     0.000000   1000.00000\n",
       "Fresh Feed              2880.0     1.464866   1514.71700\n",
       "Total SAG Feed          2880.0     0.595102   2256.48900\n",
       "SAG Feed Density        2880.0     0.274515    119.26610\n",
       "Fresh Water Flowrate    2880.0     8.010986   1098.95500\n",
       "Reclaim Water Flowrate  2880.0     0.000000   2752.78900\n",
       "Discharge Right         2880.0  6302.750000   7690.64200\n",
       "SAG Sound 1             2880.0   103.677300    117.12610\n",
       "SAG Sound 2             2880.0   101.673600    116.27330\n",
       "SAG Power               2880.0   -36.000000  13285.00000\n",
       "SAG Speed               2880.0    -2.750000     10.38000\n",
       "SAG Lube Temp           2880.0    36.101320     41.81735\n",
       "Pebble Return Load      2880.0     0.000000    424.12450\n",
       "Pebble Crusher Power    2880.0     0.000000    435.41310\n",
       "Pebble Crusher CCS      2880.0     1.386002     18.24901\n",
       "CV6                     2880.0     0.360113    400.00000\n",
       "BM1 Power               2880.0   -34.000000  12534.00000\n",
       "BM2 Power               2880.0   -33.000000  12594.00000\n",
       "BM1 CYC Feed Flowrate   2880.0    19.267570   5140.43800\n",
       "BM2 CYC Feed Flowrate   2880.0     0.837720   6094.78700\n",
       "BM1 Speed               2880.0    -0.090000     12.14000\n",
       "BM2 Speed               2880.0    -0.050000     12.15000\n",
       "BM1 CYC Feed Water      2880.0     0.000000    712.70310\n",
       "BM2 CYC Feed Water      2880.0     0.000000    688.69310\n",
       "BM1 CYC Feed Density    2880.0     0.000000     64.44495\n",
       "BM2 CYC Feed Density    2880.0     0.000000     62.11948\n",
       "BM1 CYC Press.          2880.0     0.000000     93.07576\n",
       "BM2 CYC Press.          2880.0     0.000000     91.02678"
      ]
     },
     "execution_count": 106,
     "metadata": {},
     "output_type": "execute_result"
    }
   ],
   "source": [
    "df.describe().transpose()[['count', 'min', 'max']]"
   ]
  },
  {
   "cell_type": "code",
   "execution_count": 161,
   "metadata": {},
   "outputs": [
    {
     "data": {
      "text/plain": [
       "(Timestamp('2012-04-04 05:30:00'), Timestamp('2012-04-06 05:29:00'))"
      ]
     },
     "execution_count": 161,
     "metadata": {},
     "output_type": "execute_result"
    }
   ],
   "source": [
    "df.index[0], df.index[-1]"
   ]
  },
  {
   "cell_type": "markdown",
   "metadata": {},
   "source": [
    "## Analysing data visually"
   ]
  },
  {
   "cell_type": "code",
   "execution_count": 120,
   "metadata": {},
   "outputs": [
    {
     "data": {
      "image/png": "[encoded data removed]",
      "text/plain": [
       "<Figure size 432x288 with 1 Axes>"
      ]
     },
     "metadata": {
      "needs_background": "light"
     },
     "output_type": "display_data"
    }
   ],
   "source": [
    "speeds_gt_10 = df['SAG Speed'] > 10\n",
    "df.loc[speeds_gt_10, 'SAG Speed'].hist(bins=31)\n",
    "plt.show()"
   ]
  },
  {
   "cell_type": "code",
   "execution_count": 122,
   "metadata": {},
   "outputs": [
    {
     "data": {
      "image/png": "[encoded data removed]",
      "text/plain": [
       "<Figure size 432x288 with 1 Axes>"
      ]
     },
     "metadata": {
      "needs_background": "light"
     },
     "output_type": "display_data"
    }
   ],
   "source": [
    "df.loc[speeds_gt_10, 'SAG Power'].hist(bins=31)\n",
    "plt.show()"
   ]
  },
  {
   "cell_type": "code",
   "execution_count": 178,
   "metadata": {},
   "outputs": [
    {
     "data": {
      "image/png": "[encoded data removed]",
      "text/plain": [
       "<Figure size 432x288 with 1 Axes>"
      ]
     },
     "metadata": {
      "needs_background": "light"
     },
     "output_type": "display_data"
    }
   ],
   "source": [
    "df.loc[speeds_gt_10, 'SAG Speed'].plot(style='.')\n",
    "plt.grid()\n",
    "plt.show()"
   ]
  },
  {
   "cell_type": "code",
   "execution_count": 179,
   "metadata": {},
   "outputs": [
    {
     "data": {
      "image/png": "[encoded data removed]",
      "text/plain": [
       "<Figure size 432x288 with 1 Axes>"
      ]
     },
     "metadata": {
      "needs_background": "light"
     },
     "output_type": "display_data"
    }
   ],
   "source": [
    "df.loc[speeds_gt_10, 'SAG Power'].plot(style='.')\n",
    "plt.grid()\n",
    "plt.show()"
   ]
  },
  {
   "cell_type": "code",
   "execution_count": 180,
   "metadata": {},
   "outputs": [
    {
     "data": {
      "image/png": "[encoded data removed]",
      "text/plain": [
       "<Figure size 432x288 with 1 Axes>"
      ]
     },
     "metadata": {
      "needs_background": "light"
     },
     "output_type": "display_data"
    }
   ],
   "source": [
    "x = df.loc[speeds_gt_10, 'SAG Speed']\n",
    "y = df.loc[speeds_gt_10, 'SAG Power']\n",
    "plt.scatter(x, y, alpha=0.2)\n",
    "plt.xlim(10.25, 10.4)\n",
    "plt.xlabel(f\"{x.name} ({info.loc[x.name, 'Units']})\")\n",
    "plt.ylabel(f\"{y.name} ({info.loc[y.name, 'Units']})\")\n",
    "plt.grid()\n",
    "plt.show()"
   ]
  },
  {
   "cell_type": "code",
   "execution_count": 181,
   "metadata": {},
   "outputs": [
    {
     "data": {
      "image/png": "[encoded data removed]",
      "text/plain": [
       "<Figure size 432x288 with 1 Axes>"
      ]
     },
     "metadata": {
      "needs_background": "light"
     },
     "output_type": "display_data"
    }
   ],
   "source": [
    "df.loc[speeds_gt_10, 'Total SAG Feed'].hist(bins=31)\n",
    "plt.show()"
   ]
  },
  {
   "cell_type": "code",
   "execution_count": null,
   "metadata": {},
   "outputs": [],
   "source": []
  },
  {
   "cell_type": "markdown",
   "metadata": {},
   "source": [
    "## Example 2"
   ]
  },
  {
   "cell_type": "code",
   "execution_count": 194,
   "metadata": {},
   "outputs": [
    {
     "data": {
      "text/html": [
       "<div>\n",
       "<style scoped>\n",
       "    .dataframe tbody tr th:only-of-type {\n",
       "        vertical-align: middle;\n",
       "    }\n",
       "\n",
       "    .dataframe tbody tr th {\n",
       "        vertical-align: top;\n",
       "    }\n",
       "\n",
       "    .dataframe thead th {\n",
       "        text-align: right;\n",
       "    }\n",
       "</style>\n",
       "<table border=\"1\" class=\"dataframe\">\n",
       "  <thead>\n",
       "    <tr style=\"text-align: right;\">\n",
       "      <th></th>\n",
       "      <th>0</th>\n",
       "      <th>1</th>\n",
       "      <th>2</th>\n",
       "      <th>3</th>\n",
       "      <th>4</th>\n",
       "      <th>5</th>\n",
       "      <th>6</th>\n",
       "      <th>7</th>\n",
       "      <th>8</th>\n",
       "      <th>9</th>\n",
       "      <th>...</th>\n",
       "      <th>28</th>\n",
       "      <th>29</th>\n",
       "      <th>30</th>\n",
       "      <th>31</th>\n",
       "      <th>32</th>\n",
       "      <th>33</th>\n",
       "      <th>34</th>\n",
       "      <th>35</th>\n",
       "      <th>36</th>\n",
       "      <th>37</th>\n",
       "    </tr>\n",
       "  </thead>\n",
       "  <tbody>\n",
       "    <tr>\n",
       "      <th>0</th>\n",
       "      <td>NaT</td>\n",
       "      <td>SAG rpm</td>\n",
       "      <td>Feed Bearing kPa</td>\n",
       "      <td>Dis Bearing kPa</td>\n",
       "      <td>SAG wtph</td>\n",
       "      <td>Pebble CSS</td>\n",
       "      <td>Recirc.</td>\n",
       "      <td>Pebble Reject Totalizer</td>\n",
       "      <td>Screen Deck amp</td>\n",
       "      <td>FD1 D80 inch</td>\n",
       "      <td>...</td>\n",
       "      <td>BM1 Cyc Feed Flow Rate</td>\n",
       "      <td>BM2 Pump Box Water flow</td>\n",
       "      <td>BM2 Pump Box Level</td>\n",
       "      <td>BM2 Power kW</td>\n",
       "      <td>BM2 SPEED</td>\n",
       "      <td>BM2 Feed Water Flow</td>\n",
       "      <td>BM2 Cyclone kPa</td>\n",
       "      <td>BM2 CYC. FEED DENSITY</td>\n",
       "      <td>BM2 Cyc Feed Flow Rate</td>\n",
       "      <td>OSA FF %Solid</td>\n",
       "    </tr>\n",
       "    <tr>\n",
       "      <th>1</th>\n",
       "      <td>NaT</td>\n",
       "      <td>SM-PEC-Mill-nAct</td>\n",
       "      <td>320-PIT-20941</td>\n",
       "      <td>320-PIT-20947</td>\n",
       "      <td>315-WQI-20327</td>\n",
       "      <td>325-HY-Gap</td>\n",
       "      <td>320-WQI-20846</td>\n",
       "      <td>325-WQI-20319</td>\n",
       "      <td>320-II-20755</td>\n",
       "      <td>315-EXP-FDR1-P80</td>\n",
       "      <td>...</td>\n",
       "      <td>320-FI-21136</td>\n",
       "      <td>320-FI-21230</td>\n",
       "      <td>320-LI-21231</td>\n",
       "      <td>BM2-PEC-Mill-P</td>\n",
       "      <td>BM2-PEC-Mill-nAct</td>\n",
       "      <td>320-FI-21285</td>\n",
       "      <td>320-PI-21238</td>\n",
       "      <td>320-DI-21237</td>\n",
       "      <td>320-FI-21236</td>\n",
       "      <td>300-OA-0186-BM1Sol</td>\n",
       "    </tr>\n",
       "  </tbody>\n",
       "</table>\n",
       "<p>2 rows × 38 columns</p>\n",
       "</div>"
      ],
      "text/plain": [
       "   0                 1                 2                3              4   \\\n",
       "0 NaT           SAG rpm  Feed Bearing kPa  Dis Bearing kPa       SAG wtph   \n",
       "1 NaT  SM-PEC-Mill-nAct     320-PIT-20941    320-PIT-20947  315-WQI-20327   \n",
       "\n",
       "           5              6                        7                8   \\\n",
       "0  Pebble CSS        Recirc.  Pebble Reject Totalizer  Screen Deck amp   \n",
       "1  325-HY-Gap  320-WQI-20846            325-WQI-20319     320-II-20755   \n",
       "\n",
       "                 9   ...                      28                       29  \\\n",
       "0      FD1 D80 inch  ...  BM1 Cyc Feed Flow Rate  BM2 Pump Box Water flow   \n",
       "1  315-EXP-FDR1-P80  ...            320-FI-21136             320-FI-21230   \n",
       "\n",
       "                   30              31                 32                   33  \\\n",
       "0  BM2 Pump Box Level    BM2 Power kW          BM2 SPEED  BM2 Feed Water Flow   \n",
       "1        320-LI-21231  BM2-PEC-Mill-P  BM2-PEC-Mill-nAct         320-FI-21285   \n",
       "\n",
       "                34                     35                      36  \\\n",
       "0  BM2 Cyclone kPa  BM2 CYC. FEED DENSITY  BM2 Cyc Feed Flow Rate   \n",
       "1     320-PI-21238           320-DI-21237            320-FI-21236   \n",
       "\n",
       "                   37  \n",
       "0       OSA FF %Solid  \n",
       "1  300-OA-0186-BM1Sol  \n",
       "\n",
       "[2 rows x 38 columns]"
      ]
     },
     "execution_count": 194,
     "metadata": {},
     "output_type": "execute_result"
    }
   ],
   "source": [
    "filename = 'DCS Data Example.xlsx'\n",
    "filepath = os.path.join('data', filename)\n",
    "df = pd.read_excel(filepath, header=None)\n",
    "\n",
    "# Need to deal with first 2 header rows\n",
    "df.loc[0:1]"
   ]
  },
  {
   "cell_type": "code",
   "execution_count": 195,
   "metadata": {},
   "outputs": [
    {
     "data": {
      "text/html": [
       "<div>\n",
       "<style scoped>\n",
       "    .dataframe tbody tr th:only-of-type {\n",
       "        vertical-align: middle;\n",
       "    }\n",
       "\n",
       "    .dataframe tbody tr th {\n",
       "        vertical-align: top;\n",
       "    }\n",
       "\n",
       "    .dataframe thead th {\n",
       "        text-align: right;\n",
       "    }\n",
       "</style>\n",
       "<table border=\"1\" class=\"dataframe\">\n",
       "  <thead>\n",
       "    <tr style=\"text-align: right;\">\n",
       "      <th></th>\n",
       "      <th>Tag</th>\n",
       "    </tr>\n",
       "    <tr>\n",
       "      <th>Name</th>\n",
       "      <th></th>\n",
       "    </tr>\n",
       "  </thead>\n",
       "  <tbody>\n",
       "    <tr>\n",
       "      <th>SAG rpm</th>\n",
       "      <td>SM-PEC-Mill-nAct</td>\n",
       "    </tr>\n",
       "    <tr>\n",
       "      <th>Feed Bearing kPa</th>\n",
       "      <td>320-PIT-20941</td>\n",
       "    </tr>\n",
       "    <tr>\n",
       "      <th>Dis Bearing kPa</th>\n",
       "      <td>320-PIT-20947</td>\n",
       "    </tr>\n",
       "    <tr>\n",
       "      <th>SAG wtph</th>\n",
       "      <td>315-WQI-20327</td>\n",
       "    </tr>\n",
       "    <tr>\n",
       "      <th>Pebble CSS</th>\n",
       "      <td>325-HY-Gap</td>\n",
       "    </tr>\n",
       "  </tbody>\n",
       "</table>\n",
       "</div>"
      ],
      "text/plain": [
       "                               Tag\n",
       "Name                              \n",
       "SAG rpm           SM-PEC-Mill-nAct\n",
       "Feed Bearing kPa     320-PIT-20941\n",
       "Dis Bearing kPa      320-PIT-20947\n",
       "SAG wtph             315-WQI-20327\n",
       "Pebble CSS              325-HY-Gap"
      ]
     },
     "execution_count": 195,
     "metadata": {},
     "output_type": "execute_result"
    }
   ],
   "source": [
    "# Save info for later\n",
    "info = df.loc[0:1].transpose().drop(0)\n",
    "info.columns = ['Name', 'Tag']\n",
    "info = info.set_index('Name')\n",
    "info.head()"
   ]
  },
  {
   "cell_type": "code",
   "execution_count": 196,
   "metadata": {},
   "outputs": [
    {
     "data": {
      "text/html": [
       "<div>\n",
       "<style scoped>\n",
       "    .dataframe tbody tr th:only-of-type {\n",
       "        vertical-align: middle;\n",
       "    }\n",
       "\n",
       "    .dataframe tbody tr th {\n",
       "        vertical-align: top;\n",
       "    }\n",
       "\n",
       "    .dataframe thead th {\n",
       "        text-align: right;\n",
       "    }\n",
       "</style>\n",
       "<table border=\"1\" class=\"dataframe\">\n",
       "  <thead>\n",
       "    <tr style=\"text-align: right;\">\n",
       "      <th></th>\n",
       "      <th>SAG rpm</th>\n",
       "      <th>Feed Bearing kPa</th>\n",
       "      <th>Dis Bearing kPa</th>\n",
       "      <th>SAG wtph</th>\n",
       "      <th>Pebble CSS</th>\n",
       "      <th>Recirc.</th>\n",
       "      <th>Pebble Reject Totalizer</th>\n",
       "      <th>Screen Deck amp</th>\n",
       "      <th>FD1 D80 inch</th>\n",
       "      <th>FD2 D80 inch</th>\n",
       "      <th>...</th>\n",
       "      <th>BM1 Cyc Feed Flow Rate</th>\n",
       "      <th>BM2 Pump Box Water flow</th>\n",
       "      <th>BM2 Pump Box Level</th>\n",
       "      <th>BM2 Power kW</th>\n",
       "      <th>BM2 SPEED</th>\n",
       "      <th>BM2 Feed Water Flow</th>\n",
       "      <th>BM2 Cyclone kPa</th>\n",
       "      <th>BM2 CYC. FEED DENSITY</th>\n",
       "      <th>BM2 Cyc Feed Flow Rate</th>\n",
       "      <th>OSA FF %Solid</th>\n",
       "    </tr>\n",
       "    <tr>\n",
       "      <th>Timestamp</th>\n",
       "      <th></th>\n",
       "      <th></th>\n",
       "      <th></th>\n",
       "      <th></th>\n",
       "      <th></th>\n",
       "      <th></th>\n",
       "      <th></th>\n",
       "      <th></th>\n",
       "      <th></th>\n",
       "      <th></th>\n",
       "      <th></th>\n",
       "      <th></th>\n",
       "      <th></th>\n",
       "      <th></th>\n",
       "      <th></th>\n",
       "      <th></th>\n",
       "      <th></th>\n",
       "      <th></th>\n",
       "      <th></th>\n",
       "      <th></th>\n",
       "      <th></th>\n",
       "    </tr>\n",
       "  </thead>\n",
       "  <tbody>\n",
       "    <tr>\n",
       "      <th>2017-01-06 05:30:00</th>\n",
       "      <td>10.4816</td>\n",
       "      <td>6952.17</td>\n",
       "      <td>6261.19</td>\n",
       "      <td>1780.89</td>\n",
       "      <td>16.136</td>\n",
       "      <td>292.654</td>\n",
       "      <td>0.863263</td>\n",
       "      <td>31.862</td>\n",
       "      <td>1.58594</td>\n",
       "      <td>1.40429</td>\n",
       "      <td>...</td>\n",
       "      <td>5055.65</td>\n",
       "      <td>60.7807</td>\n",
       "      <td>44.323</td>\n",
       "      <td>12605.7</td>\n",
       "      <td>12.3346</td>\n",
       "      <td>0.358288</td>\n",
       "      <td>39.9423</td>\n",
       "      <td>71.9821</td>\n",
       "      <td>5173.3</td>\n",
       "      <td>44.8878</td>\n",
       "    </tr>\n",
       "    <tr>\n",
       "      <th>2017-01-06 05:31:00</th>\n",
       "      <td>10.4835</td>\n",
       "      <td>6953.01</td>\n",
       "      <td>6258.83</td>\n",
       "      <td>1791.12</td>\n",
       "      <td>16.136</td>\n",
       "      <td>294.881</td>\n",
       "      <td>0.863919</td>\n",
       "      <td>31.9225</td>\n",
       "      <td>1.58368</td>\n",
       "      <td>1.41579</td>\n",
       "      <td>...</td>\n",
       "      <td>5046.12</td>\n",
       "      <td>61.3404</td>\n",
       "      <td>45.0006</td>\n",
       "      <td>12618.8</td>\n",
       "      <td>12.3348</td>\n",
       "      <td>0.354895</td>\n",
       "      <td>40.1479</td>\n",
       "      <td>71.8553</td>\n",
       "      <td>5150.27</td>\n",
       "      <td>44.8878</td>\n",
       "    </tr>\n",
       "    <tr>\n",
       "      <th>2017-01-06 05:32:00</th>\n",
       "      <td>10.4831</td>\n",
       "      <td>6955.81</td>\n",
       "      <td>6253.46</td>\n",
       "      <td>1800.24</td>\n",
       "      <td>16.136</td>\n",
       "      <td>293.065</td>\n",
       "      <td>0.899928</td>\n",
       "      <td>31.9358</td>\n",
       "      <td>1.55908</td>\n",
       "      <td>1.43375</td>\n",
       "      <td>...</td>\n",
       "      <td>5070.73</td>\n",
       "      <td>64.2192</td>\n",
       "      <td>44.8348</td>\n",
       "      <td>12603.4</td>\n",
       "      <td>12.3388</td>\n",
       "      <td>0.349461</td>\n",
       "      <td>39.9234</td>\n",
       "      <td>72.0669</td>\n",
       "      <td>5218.75</td>\n",
       "      <td>44.8878</td>\n",
       "    </tr>\n",
       "    <tr>\n",
       "      <th>2017-01-06 05:33:00</th>\n",
       "      <td>10.4821</td>\n",
       "      <td>6956.2</td>\n",
       "      <td>6256.94</td>\n",
       "      <td>1788.26</td>\n",
       "      <td>16.136</td>\n",
       "      <td>291.898</td>\n",
       "      <td>0.886091</td>\n",
       "      <td>32.0162</td>\n",
       "      <td>1.55133</td>\n",
       "      <td>1.44379</td>\n",
       "      <td>...</td>\n",
       "      <td>5038.52</td>\n",
       "      <td>68.3223</td>\n",
       "      <td>44.4711</td>\n",
       "      <td>12603</td>\n",
       "      <td>12.3378</td>\n",
       "      <td>0.346761</td>\n",
       "      <td>40.1441</td>\n",
       "      <td>71.9733</td>\n",
       "      <td>5176.32</td>\n",
       "      <td>44.8878</td>\n",
       "    </tr>\n",
       "    <tr>\n",
       "      <th>2017-01-06 05:34:00</th>\n",
       "      <td>10.4829</td>\n",
       "      <td>6943.73</td>\n",
       "      <td>6261.08</td>\n",
       "      <td>1792.45</td>\n",
       "      <td>16.136</td>\n",
       "      <td>294.364</td>\n",
       "      <td>0.926062</td>\n",
       "      <td>32.2032</td>\n",
       "      <td>1.53359</td>\n",
       "      <td>1.42751</td>\n",
       "      <td>...</td>\n",
       "      <td>5081.67</td>\n",
       "      <td>65.128</td>\n",
       "      <td>45.1929</td>\n",
       "      <td>12604.2</td>\n",
       "      <td>12.3391</td>\n",
       "      <td>0.346761</td>\n",
       "      <td>40.0629</td>\n",
       "      <td>72.1788</td>\n",
       "      <td>5193.33</td>\n",
       "      <td>44.8878</td>\n",
       "    </tr>\n",
       "  </tbody>\n",
       "</table>\n",
       "<p>5 rows × 37 columns</p>\n",
       "</div>"
      ],
      "text/plain": [
       "                     SAG rpm Feed Bearing kPa Dis Bearing kPa SAG wtph  \\\n",
       "Timestamp                                                                \n",
       "2017-01-06 05:30:00  10.4816          6952.17         6261.19  1780.89   \n",
       "2017-01-06 05:31:00  10.4835          6953.01         6258.83  1791.12   \n",
       "2017-01-06 05:32:00  10.4831          6955.81         6253.46  1800.24   \n",
       "2017-01-06 05:33:00  10.4821           6956.2         6256.94  1788.26   \n",
       "2017-01-06 05:34:00  10.4829          6943.73         6261.08  1792.45   \n",
       "\n",
       "                    Pebble CSS  Recirc. Pebble Reject Totalizer  \\\n",
       "Timestamp                                                         \n",
       "2017-01-06 05:30:00     16.136  292.654                0.863263   \n",
       "2017-01-06 05:31:00     16.136  294.881                0.863919   \n",
       "2017-01-06 05:32:00     16.136  293.065                0.899928   \n",
       "2017-01-06 05:33:00     16.136  291.898                0.886091   \n",
       "2017-01-06 05:34:00     16.136  294.364                0.926062   \n",
       "\n",
       "                    Screen Deck amp FD1 D80 inch FD2 D80 inch  ...  \\\n",
       "Timestamp                                                      ...   \n",
       "2017-01-06 05:30:00          31.862      1.58594      1.40429  ...   \n",
       "2017-01-06 05:31:00         31.9225      1.58368      1.41579  ...   \n",
       "2017-01-06 05:32:00         31.9358      1.55908      1.43375  ...   \n",
       "2017-01-06 05:33:00         32.0162      1.55133      1.44379  ...   \n",
       "2017-01-06 05:34:00         32.2032      1.53359      1.42751  ...   \n",
       "\n",
       "                    BM1 Cyc Feed Flow Rate BM2 Pump Box Water flow  \\\n",
       "Timestamp                                                            \n",
       "2017-01-06 05:30:00                5055.65                 60.7807   \n",
       "2017-01-06 05:31:00                5046.12                 61.3404   \n",
       "2017-01-06 05:32:00                5070.73                 64.2192   \n",
       "2017-01-06 05:33:00                5038.52                 68.3223   \n",
       "2017-01-06 05:34:00                5081.67                  65.128   \n",
       "\n",
       "                    BM2 Pump Box Level BM2 Power kW BM2 SPEED  \\\n",
       "Timestamp                                                       \n",
       "2017-01-06 05:30:00             44.323      12605.7   12.3346   \n",
       "2017-01-06 05:31:00            45.0006      12618.8   12.3348   \n",
       "2017-01-06 05:32:00            44.8348      12603.4   12.3388   \n",
       "2017-01-06 05:33:00            44.4711        12603   12.3378   \n",
       "2017-01-06 05:34:00            45.1929      12604.2   12.3391   \n",
       "\n",
       "                    BM2 Feed Water Flow BM2 Cyclone kPa BM2 CYC. FEED DENSITY  \\\n",
       "Timestamp                                                                       \n",
       "2017-01-06 05:30:00            0.358288         39.9423               71.9821   \n",
       "2017-01-06 05:31:00            0.354895         40.1479               71.8553   \n",
       "2017-01-06 05:32:00            0.349461         39.9234               72.0669   \n",
       "2017-01-06 05:33:00            0.346761         40.1441               71.9733   \n",
       "2017-01-06 05:34:00            0.346761         40.0629               72.1788   \n",
       "\n",
       "                    BM2 Cyc Feed Flow Rate OSA FF %Solid  \n",
       "Timestamp                                                 \n",
       "2017-01-06 05:30:00                 5173.3       44.8878  \n",
       "2017-01-06 05:31:00                5150.27       44.8878  \n",
       "2017-01-06 05:32:00                5218.75       44.8878  \n",
       "2017-01-06 05:33:00                5176.32       44.8878  \n",
       "2017-01-06 05:34:00                5193.33       44.8878  \n",
       "\n",
       "[5 rows x 37 columns]"
      ]
     },
     "execution_count": 196,
     "metadata": {},
     "output_type": "execute_result"
    }
   ],
   "source": [
    "# Trim rows and set columns and index\n",
    "df.loc[0, 0] = 'Timestamp'\n",
    "df.columns = df.loc[0]\n",
    "df.columns.name = None\n",
    "df = df.loc[2:]\n",
    "df = df.set_index('Timestamp')\n",
    "df.head()"
   ]
  },
  {
   "cell_type": "code",
   "execution_count": 200,
   "metadata": {},
   "outputs": [
    {
     "data": {
      "text/plain": [
       "(1440, 37)"
      ]
     },
     "execution_count": 200,
     "metadata": {},
     "output_type": "execute_result"
    }
   ],
   "source": [
    "df.shape"
   ]
  },
  {
   "cell_type": "code",
   "execution_count": 201,
   "metadata": {},
   "outputs": [
    {
     "data": {
      "text/plain": [
       "SAG rpm                    float64\n",
       "Feed Bearing kPa           float64\n",
       "Dis Bearing kPa            float64\n",
       "SAG wtph                   float64\n",
       "Pebble CSS                 float64\n",
       "Recirc.                    float64\n",
       "Pebble Reject Totalizer    float64\n",
       "Screen Deck amp            float64\n",
       "FD1 D80 inch               float64\n",
       "FD2 D80 inch               float64\n",
       "FD3 D80 inch               float64\n",
       "FD1 Speed%                 float64\n",
       "FD2 Speed%                 float64\n",
       "FD3 Speed%                 float64\n",
       "SAG kW                     float64\n",
       "Pebble kW                  float64\n",
       "SAG Water                  float64\n",
       "Dis Water                  float64\n",
       "Push Water                 float64\n",
       "Transfer %Solid            float64\n",
       "BM1 Pump Box Water flow    float64\n",
       "BM1 Pump Box Level         float64\n",
       "BM1 Power kW               float64\n",
       "BM1 SPEED                  float64\n",
       "BM1 Feed Water Flow        float64\n",
       "BM1 Cyclone kPa            float64\n",
       "BM1 CYC. FEED DENSITY      float64\n",
       "BM1 Cyc Feed Flow Rate     float64\n",
       "BM2 Pump Box Water flow    float64\n",
       "BM2 Pump Box Level         float64\n",
       "BM2 Power kW               float64\n",
       "BM2 SPEED                  float64\n",
       "BM2 Feed Water Flow        float64\n",
       "BM2 Cyclone kPa            float64\n",
       "BM2 CYC. FEED DENSITY      float64\n",
       "BM2 Cyc Feed Flow Rate     float64\n",
       "OSA FF %Solid              float64\n",
       "dtype: object"
      ]
     },
     "execution_count": 201,
     "metadata": {},
     "output_type": "execute_result"
    }
   ],
   "source": [
    "for col in df:\n",
    "    df[col] = pd.to_numeric(df[col])\n",
    "df.dtypes"
   ]
  },
  {
   "cell_type": "code",
   "execution_count": 202,
   "metadata": {},
   "outputs": [
    {
     "data": {
      "text/html": [
       "<div>\n",
       "<style scoped>\n",
       "    .dataframe tbody tr th:only-of-type {\n",
       "        vertical-align: middle;\n",
       "    }\n",
       "\n",
       "    .dataframe tbody tr th {\n",
       "        vertical-align: top;\n",
       "    }\n",
       "\n",
       "    .dataframe thead th {\n",
       "        text-align: right;\n",
       "    }\n",
       "</style>\n",
       "<table border=\"1\" class=\"dataframe\">\n",
       "  <thead>\n",
       "    <tr style=\"text-align: right;\">\n",
       "      <th></th>\n",
       "      <th>SAG rpm</th>\n",
       "      <th>Feed Bearing kPa</th>\n",
       "      <th>Dis Bearing kPa</th>\n",
       "      <th>SAG wtph</th>\n",
       "      <th>Pebble CSS</th>\n",
       "      <th>Recirc.</th>\n",
       "      <th>Pebble Reject Totalizer</th>\n",
       "      <th>Screen Deck amp</th>\n",
       "      <th>FD1 D80 inch</th>\n",
       "      <th>FD2 D80 inch</th>\n",
       "      <th>...</th>\n",
       "      <th>BM1 Cyc Feed Flow Rate</th>\n",
       "      <th>BM2 Pump Box Water flow</th>\n",
       "      <th>BM2 Pump Box Level</th>\n",
       "      <th>BM2 Power kW</th>\n",
       "      <th>BM2 SPEED</th>\n",
       "      <th>BM2 Feed Water Flow</th>\n",
       "      <th>BM2 Cyclone kPa</th>\n",
       "      <th>BM2 CYC. FEED DENSITY</th>\n",
       "      <th>BM2 Cyc Feed Flow Rate</th>\n",
       "      <th>OSA FF %Solid</th>\n",
       "    </tr>\n",
       "  </thead>\n",
       "  <tbody>\n",
       "    <tr>\n",
       "      <th>count</th>\n",
       "      <td>1440.000000</td>\n",
       "      <td>1440.000000</td>\n",
       "      <td>1440.000000</td>\n",
       "      <td>1440.000000</td>\n",
       "      <td>1440.000000</td>\n",
       "      <td>1440.000000</td>\n",
       "      <td>1440.000000</td>\n",
       "      <td>1440.000000</td>\n",
       "      <td>1440.000000</td>\n",
       "      <td>1440.000000</td>\n",
       "      <td>...</td>\n",
       "      <td>1440.000000</td>\n",
       "      <td>1440.000000</td>\n",
       "      <td>1440.000000</td>\n",
       "      <td>1440.000000</td>\n",
       "      <td>1440.000000</td>\n",
       "      <td>1440.000000</td>\n",
       "      <td>1440.000000</td>\n",
       "      <td>1440.000000</td>\n",
       "      <td>1440.00000</td>\n",
       "      <td>1440.000000</td>\n",
       "    </tr>\n",
       "    <tr>\n",
       "      <th>mean</th>\n",
       "      <td>10.481519</td>\n",
       "      <td>6976.487751</td>\n",
       "      <td>6272.578553</td>\n",
       "      <td>1807.925945</td>\n",
       "      <td>15.958596</td>\n",
       "      <td>306.743716</td>\n",
       "      <td>0.995889</td>\n",
       "      <td>32.225269</td>\n",
       "      <td>1.560141</td>\n",
       "      <td>1.419372</td>\n",
       "      <td>...</td>\n",
       "      <td>5060.368817</td>\n",
       "      <td>54.763743</td>\n",
       "      <td>46.184280</td>\n",
       "      <td>12590.485243</td>\n",
       "      <td>12.335337</td>\n",
       "      <td>0.350923</td>\n",
       "      <td>39.999418</td>\n",
       "      <td>71.910470</td>\n",
       "      <td>5155.29411</td>\n",
       "      <td>45.221231</td>\n",
       "    </tr>\n",
       "    <tr>\n",
       "      <th>std</th>\n",
       "      <td>0.003083</td>\n",
       "      <td>22.971586</td>\n",
       "      <td>23.366039</td>\n",
       "      <td>44.962537</td>\n",
       "      <td>2.217289</td>\n",
       "      <td>23.043017</td>\n",
       "      <td>0.215196</td>\n",
       "      <td>0.503777</td>\n",
       "      <td>0.103332</td>\n",
       "      <td>0.038855</td>\n",
       "      <td>...</td>\n",
       "      <td>38.989584</td>\n",
       "      <td>45.384543</td>\n",
       "      <td>3.478773</td>\n",
       "      <td>60.242943</td>\n",
       "      <td>0.002996</td>\n",
       "      <td>0.003967</td>\n",
       "      <td>0.168657</td>\n",
       "      <td>0.794754</td>\n",
       "      <td>45.63280</td>\n",
       "      <td>1.517136</td>\n",
       "    </tr>\n",
       "    <tr>\n",
       "      <th>min</th>\n",
       "      <td>10.472630</td>\n",
       "      <td>6913.743000</td>\n",
       "      <td>6206.637000</td>\n",
       "      <td>1697.510000</td>\n",
       "      <td>12.944010</td>\n",
       "      <td>256.555500</td>\n",
       "      <td>0.759294</td>\n",
       "      <td>31.132540</td>\n",
       "      <td>1.373525</td>\n",
       "      <td>1.306794</td>\n",
       "      <td>...</td>\n",
       "      <td>4952.278000</td>\n",
       "      <td>0.088800</td>\n",
       "      <td>40.634440</td>\n",
       "      <td>12435.150000</td>\n",
       "      <td>12.323600</td>\n",
       "      <td>0.346761</td>\n",
       "      <td>39.396870</td>\n",
       "      <td>69.960480</td>\n",
       "      <td>5029.53000</td>\n",
       "      <td>41.071870</td>\n",
       "    </tr>\n",
       "    <tr>\n",
       "      <th>25%</th>\n",
       "      <td>10.479378</td>\n",
       "      <td>6962.583250</td>\n",
       "      <td>6257.459250</td>\n",
       "      <td>1780.932500</td>\n",
       "      <td>14.120010</td>\n",
       "      <td>290.711275</td>\n",
       "      <td>0.870844</td>\n",
       "      <td>31.880225</td>\n",
       "      <td>1.487003</td>\n",
       "      <td>1.394648</td>\n",
       "      <td>...</td>\n",
       "      <td>5032.513250</td>\n",
       "      <td>0.199455</td>\n",
       "      <td>44.590863</td>\n",
       "      <td>12554.907500</td>\n",
       "      <td>12.333410</td>\n",
       "      <td>0.346761</td>\n",
       "      <td>39.890313</td>\n",
       "      <td>71.381438</td>\n",
       "      <td>5123.79375</td>\n",
       "      <td>44.561560</td>\n",
       "    </tr>\n",
       "    <tr>\n",
       "      <th>50%</th>\n",
       "      <td>10.481475</td>\n",
       "      <td>6975.705500</td>\n",
       "      <td>6270.785000</td>\n",
       "      <td>1818.695500</td>\n",
       "      <td>15.128020</td>\n",
       "      <td>303.787350</td>\n",
       "      <td>0.908780</td>\n",
       "      <td>32.158715</td>\n",
       "      <td>1.538914</td>\n",
       "      <td>1.421941</td>\n",
       "      <td>...</td>\n",
       "      <td>5061.472000</td>\n",
       "      <td>57.229145</td>\n",
       "      <td>45.161420</td>\n",
       "      <td>12601.250000</td>\n",
       "      <td>12.335420</td>\n",
       "      <td>0.350667</td>\n",
       "      <td>39.995480</td>\n",
       "      <td>71.942695</td>\n",
       "      <td>5156.97950</td>\n",
       "      <td>45.385360</td>\n",
       "    </tr>\n",
       "    <tr>\n",
       "      <th>75%</th>\n",
       "      <td>10.483660</td>\n",
       "      <td>6992.094250</td>\n",
       "      <td>6288.244000</td>\n",
       "      <td>1843.820000</td>\n",
       "      <td>18.992000</td>\n",
       "      <td>320.190725</td>\n",
       "      <td>1.025239</td>\n",
       "      <td>32.495405</td>\n",
       "      <td>1.621079</td>\n",
       "      <td>1.446005</td>\n",
       "      <td>...</td>\n",
       "      <td>5087.724500</td>\n",
       "      <td>90.681482</td>\n",
       "      <td>45.903370</td>\n",
       "      <td>12636.650000</td>\n",
       "      <td>12.337272</td>\n",
       "      <td>0.353279</td>\n",
       "      <td>40.105150</td>\n",
       "      <td>72.503750</td>\n",
       "      <td>5188.02500</td>\n",
       "      <td>46.136358</td>\n",
       "    </tr>\n",
       "    <tr>\n",
       "      <th>max</th>\n",
       "      <td>10.492360</td>\n",
       "      <td>7037.431000</td>\n",
       "      <td>6335.180000</td>\n",
       "      <td>1885.738000</td>\n",
       "      <td>19.374250</td>\n",
       "      <td>383.882700</td>\n",
       "      <td>2.005210</td>\n",
       "      <td>34.203490</td>\n",
       "      <td>2.001935</td>\n",
       "      <td>1.519087</td>\n",
       "      <td>...</td>\n",
       "      <td>5178.790000</td>\n",
       "      <td>168.368400</td>\n",
       "      <td>61.740430</td>\n",
       "      <td>12704.200000</td>\n",
       "      <td>12.346020</td>\n",
       "      <td>0.373074</td>\n",
       "      <td>40.567880</td>\n",
       "      <td>73.985370</td>\n",
       "      <td>5306.72300</td>\n",
       "      <td>48.339210</td>\n",
       "    </tr>\n",
       "  </tbody>\n",
       "</table>\n",
       "<p>8 rows × 37 columns</p>\n",
       "</div>"
      ],
      "text/plain": [
       "           SAG rpm  Feed Bearing kPa  Dis Bearing kPa     SAG wtph  \\\n",
       "count  1440.000000       1440.000000      1440.000000  1440.000000   \n",
       "mean     10.481519       6976.487751      6272.578553  1807.925945   \n",
       "std       0.003083         22.971586        23.366039    44.962537   \n",
       "min      10.472630       6913.743000      6206.637000  1697.510000   \n",
       "25%      10.479378       6962.583250      6257.459250  1780.932500   \n",
       "50%      10.481475       6975.705500      6270.785000  1818.695500   \n",
       "75%      10.483660       6992.094250      6288.244000  1843.820000   \n",
       "max      10.492360       7037.431000      6335.180000  1885.738000   \n",
       "\n",
       "        Pebble CSS      Recirc.  Pebble Reject Totalizer  Screen Deck amp  \\\n",
       "count  1440.000000  1440.000000              1440.000000      1440.000000   \n",
       "mean     15.958596   306.743716                 0.995889        32.225269   \n",
       "std       2.217289    23.043017                 0.215196         0.503777   \n",
       "min      12.944010   256.555500                 0.759294        31.132540   \n",
       "25%      14.120010   290.711275                 0.870844        31.880225   \n",
       "50%      15.128020   303.787350                 0.908780        32.158715   \n",
       "75%      18.992000   320.190725                 1.025239        32.495405   \n",
       "max      19.374250   383.882700                 2.005210        34.203490   \n",
       "\n",
       "       FD1 D80 inch  FD2 D80 inch  ...  BM1 Cyc Feed Flow Rate  \\\n",
       "count   1440.000000   1440.000000  ...             1440.000000   \n",
       "mean       1.560141      1.419372  ...             5060.368817   \n",
       "std        0.103332      0.038855  ...               38.989584   \n",
       "min        1.373525      1.306794  ...             4952.278000   \n",
       "25%        1.487003      1.394648  ...             5032.513250   \n",
       "50%        1.538914      1.421941  ...             5061.472000   \n",
       "75%        1.621079      1.446005  ...             5087.724500   \n",
       "max        2.001935      1.519087  ...             5178.790000   \n",
       "\n",
       "       BM2 Pump Box Water flow  BM2 Pump Box Level  BM2 Power kW    BM2 SPEED  \\\n",
       "count              1440.000000         1440.000000   1440.000000  1440.000000   \n",
       "mean                 54.763743           46.184280  12590.485243    12.335337   \n",
       "std                  45.384543            3.478773     60.242943     0.002996   \n",
       "min                   0.088800           40.634440  12435.150000    12.323600   \n",
       "25%                   0.199455           44.590863  12554.907500    12.333410   \n",
       "50%                  57.229145           45.161420  12601.250000    12.335420   \n",
       "75%                  90.681482           45.903370  12636.650000    12.337272   \n",
       "max                 168.368400           61.740430  12704.200000    12.346020   \n",
       "\n",
       "       BM2 Feed Water Flow  BM2 Cyclone kPa  BM2 CYC. FEED DENSITY  \\\n",
       "count          1440.000000      1440.000000            1440.000000   \n",
       "mean              0.350923        39.999418              71.910470   \n",
       "std               0.003967         0.168657               0.794754   \n",
       "min               0.346761        39.396870              69.960480   \n",
       "25%               0.346761        39.890313              71.381438   \n",
       "50%               0.350667        39.995480              71.942695   \n",
       "75%               0.353279        40.105150              72.503750   \n",
       "max               0.373074        40.567880              73.985370   \n",
       "\n",
       "       BM2 Cyc Feed Flow Rate  OSA FF %Solid  \n",
       "count              1440.00000    1440.000000  \n",
       "mean               5155.29411      45.221231  \n",
       "std                  45.63280       1.517136  \n",
       "min                5029.53000      41.071870  \n",
       "25%                5123.79375      44.561560  \n",
       "50%                5156.97950      45.385360  \n",
       "75%                5188.02500      46.136358  \n",
       "max                5306.72300      48.339210  \n",
       "\n",
       "[8 rows x 37 columns]"
      ]
     },
     "execution_count": 202,
     "metadata": {},
     "output_type": "execute_result"
    }
   ],
   "source": [
    "df.describe()"
   ]
  },
  {
   "cell_type": "code",
   "execution_count": 204,
   "metadata": {},
   "outputs": [
    {
     "data": {
      "text/plain": [
       "SAG rpm                       0\n",
       "Feed Bearing kPa              0\n",
       "Dis Bearing kPa               0\n",
       "SAG wtph                      0\n",
       "Pebble CSS                    0\n",
       "Recirc.                       0\n",
       "Pebble Reject Totalizer       0\n",
       "Screen Deck amp               0\n",
       "FD1 D80 inch                  0\n",
       "FD2 D80 inch                  0\n",
       "FD3 D80 inch                  0\n",
       "FD1 Speed%                    0\n",
       "FD2 Speed%                    0\n",
       "FD3 Speed%                    0\n",
       "SAG kW                        0\n",
       "Pebble kW                     0\n",
       "SAG Water                     0\n",
       "Dis Water                     0\n",
       "Push Water                    0\n",
       "Transfer %Solid            1439\n",
       "BM1 Pump Box Water flow       0\n",
       "BM1 Pump Box Level            0\n",
       "BM1 Power kW                  0\n",
       "BM1 SPEED                     0\n",
       "BM1 Feed Water Flow           0\n",
       "BM1 Cyclone kPa               0\n",
       "BM1 CYC. FEED DENSITY         0\n",
       "BM1 Cyc Feed Flow Rate        0\n",
       "BM2 Pump Box Water flow       0\n",
       "BM2 Pump Box Level            0\n",
       "BM2 Power kW                  0\n",
       "BM2 SPEED                     0\n",
       "BM2 Feed Water Flow           0\n",
       "BM2 Cyclone kPa               0\n",
       "BM2 CYC. FEED DENSITY         0\n",
       "BM2 Cyc Feed Flow Rate        0\n",
       "OSA FF %Solid                 0\n",
       "dtype: int64"
      ]
     },
     "execution_count": 204,
     "metadata": {},
     "output_type": "execute_result"
    }
   ],
   "source": [
    "df.isna().sum()"
   ]
  },
  {
   "cell_type": "code",
   "execution_count": 212,
   "metadata": {},
   "outputs": [
    {
     "data": {
      "image/png": "[encoded data removed]",
      "text/plain": [
       "<Figure size 360x360 with 1 Axes>"
      ]
     },
     "metadata": {
      "needs_background": "light"
     },
     "output_type": "display_data"
    }
   ],
   "source": [
    "x = df['Feed Bearing kPa']\n",
    "y = df['Dis Bearing kPa']\n",
    "plt.figure(figsize=(5, 5))\n",
    "plt.scatter(x, y)\n",
    "plt.xlabel(x.name)\n",
    "plt.ylabel(y.name)\n",
    "plt.title('Correlation of bearing pressure measurements')\n",
    "plt.grid()\n",
    "plt.show()"
   ]
  },
  {
   "cell_type": "code",
   "execution_count": 230,
   "metadata": {},
   "outputs": [
    {
     "data": {
      "image/png": "[encoded data removed]",
      "text/plain": [
       "<Figure size 576x216 with 1 Axes>"
      ]
     },
     "metadata": {
      "needs_background": "light"
     },
     "output_type": "display_data"
    }
   ],
   "source": [
    "plt.figure(figsize=(8,3))\n",
    "plt.plot(y/x)\n",
    "plt.title('Ratio of Bearing Pressures (Discharge/Feed)')\n",
    "plt.ylim(0.89, 0.91)\n",
    "plt.grid()\n",
    "plt.show()"
   ]
  },
  {
   "cell_type": "code",
   "execution_count": 226,
   "metadata": {},
   "outputs": [
    {
     "data": {
      "image/png": "[encoded data removed]",
      "text/plain": [
       "<Figure size 576x216 with 1 Axes>"
      ]
     },
     "metadata": {
      "needs_background": "light"
     },
     "output_type": "display_data"
    }
   ],
   "source": [
    "plt.figure(figsize=(8,3))\n",
    "plt.plot((x+y)/2)\n",
    "plt.title('Average Bearing Pressure')\n",
    "plt.ylim(6000,7000)\n",
    "plt.grid()\n",
    "plt.show()"
   ]
  },
  {
   "cell_type": "code",
   "execution_count": 247,
   "metadata": {},
   "outputs": [
    {
     "data": {
      "image/png": "[encoded data removed]",
      "text/plain": [
       "<Figure size 360x360 with 1 Axes>"
      ]
     },
     "metadata": {
      "needs_background": "light"
     },
     "output_type": "display_data"
    }
   ],
   "source": [
    "x = df['SAG wtph'].diff(10).rename('Change in feed (WTPH / 10 min)')\n",
    "y = (df['Feed Bearing kPa'] / df['Dis Bearing kPa'])\n",
    "y = y.rename('Pressure Ratio (Feed / Disch.)')\n",
    "plt.figure(figsize=(5, 5))\n",
    "plt.scatter(x, y)\n",
    "plt.xlabel(x.name)\n",
    "plt.ylabel(y.name)\n",
    "plt.title('Correlation of bearing pressures and feed rate')\n",
    "plt.grid()\n",
    "plt.show()"
   ]
  },
  {
   "cell_type": "code",
   "execution_count": 320,
   "metadata": {},
   "outputs": [
    {
     "name": "stdout",
     "output_type": "stream",
     "text": [
      "R-squared: 0.03451273536537047\n",
      "Coef., intercept: (2.6717235992935034e-05, 1.1122219157779847)\n"
     ]
    }
   ],
   "source": [
    "from sklearn.linear_model import LinearRegression\n",
    "\n",
    "delay = 3\n",
    "\n",
    "data_to_fit = pd.DataFrame({\n",
    "    f'Change in feed (WTPH) over {delay} min': df['SAG wtph'].diff(delay),\n",
    "    'Pressure Ratio (Feed / Disch.)': (df['Feed Bearing kPa'] / df['Dis Bearing kPa'])\n",
    "})\n",
    "\n",
    "data_to_fit = data_to_fit.dropna()\n",
    "x = data_to_fit[f'Change in feed (WTPH) over {delay} min'].values.reshape(-1,1)\n",
    "y = data_to_fit['Pressure Ratio (Feed / Disch.)'].values.reshape(-1,1)\n",
    "\n",
    "model = LinearRegression()\n",
    "model.fit(x, y)\n",
    "\n",
    "print(f\"R-squared: {model.score(x, y)}\")\n",
    "print(f\"Coef., intercept: ({model.coef_.item()}, {model.intercept_[0]})\")"
   ]
  },
  {
   "cell_type": "code",
   "execution_count": 322,
   "metadata": {},
   "outputs": [
    {
     "data": {
      "image/png": "[encoded data removed]",
      "text/plain": [
       "<Figure size 360x360 with 1 Axes>"
      ]
     },
     "metadata": {
      "needs_background": "light"
     },
     "output_type": "display_data"
    }
   ],
   "source": [
    "x = data_to_fit[f'Change in feed (WTPH) over {delay} min']\n",
    "y = data_to_fit['Pressure Ratio (Feed / Disch.)']\n",
    "\n",
    "x_line = np.linspace(x.min(), x.max(), 100)\n",
    "best_fit_line = pd.Series(\n",
    "    data=model.predict(x_line.reshape(-1,1)).reshape(-1,), \n",
    "    index=x_line,\n",
    "    name='Best Fit'\n",
    ")\n",
    "\n",
    "plt.figure(figsize=(5, 5))\n",
    "plt.scatter(x, y, marker='.', alpha=0.25)\n",
    "best_fit_line.plot(style='r-') \n",
    "plt.xlabel(x.name)\n",
    "plt.ylabel(y.name)\n",
    "plt.title('Correlation of bearing pressures and feed rate')\n",
    "plt.grid()\n",
    "plt.show()"
   ]
  },
  {
   "cell_type": "code",
   "execution_count": null,
   "metadata": {},
   "outputs": [],
   "source": []
  },
  {
   "cell_type": "code",
   "execution_count": null,
   "metadata": {},
   "outputs": [],
   "source": []
  }
 ],
 "metadata": {
  "kernelspec": {
   "display_name": "Python (torch)",
   "language": "python",
   "name": "torch"
  },
  "language_info": {
   "codemirror_mode": {
    "name": "ipython",
    "version": 3
   },
   "file_extension": ".py",
   "mimetype": "text/x-python",
   "name": "python",
   "nbconvert_exporter": "python",
   "pygments_lexer": "ipython3",
   "version": "3.9.18"
  }
 },
 "nbformat": 4,
 "nbformat_minor": 2
}
