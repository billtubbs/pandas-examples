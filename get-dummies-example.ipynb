{
 "cells": [
  {
   "cell_type": "code",
   "execution_count": 1,
   "id": "d17d1c53",
   "metadata": {},
   "outputs": [],
   "source": [
    "import pandas as pd"
   ]
  },
  {
   "cell_type": "code",
   "execution_count": 2,
   "id": "9079dbb4",
   "metadata": {},
   "outputs": [
    {
     "data": {
      "text/html": [
       "<div>\n",
       "<style scoped>\n",
       "    .dataframe tbody tr th:only-of-type {\n",
       "        vertical-align: middle;\n",
       "    }\n",
       "\n",
       "    .dataframe tbody tr th {\n",
       "        vertical-align: top;\n",
       "    }\n",
       "\n",
       "    .dataframe thead th {\n",
       "        text-align: right;\n",
       "    }\n",
       "</style>\n",
       "<table border=\"1\" class=\"dataframe\">\n",
       "  <thead>\n",
       "    <tr style=\"text-align: right;\">\n",
       "      <th></th>\n",
       "      <th>gotcha</th>\n",
       "      <th>okay</th>\n",
       "    </tr>\n",
       "  </thead>\n",
       "  <tbody>\n",
       "    <tr>\n",
       "      <th>0</th>\n",
       "      <td>False</td>\n",
       "      <td>True</td>\n",
       "    </tr>\n",
       "    <tr>\n",
       "      <th>1</th>\n",
       "      <td>True</td>\n",
       "      <td>False</td>\n",
       "    </tr>\n",
       "    <tr>\n",
       "      <th>2</th>\n",
       "      <td>False</td>\n",
       "      <td>True</td>\n",
       "    </tr>\n",
       "  </tbody>\n",
       "</table>\n",
       "</div>"
      ],
      "text/plain": [
       "   gotcha   okay\n",
       "0   False   True\n",
       "1    True  False\n",
       "2   False   True"
      ]
     },
     "execution_count": 2,
     "metadata": {},
     "output_type": "execute_result"
    }
   ],
   "source": [
    "# Convert categorical variable into dummy/indicator variables.\n",
    "pd.get_dummies([\"okay\", \"gotcha\", \"okay\"])"
   ]
  },
  {
   "cell_type": "code",
   "execution_count": 3,
   "id": "630654da",
   "metadata": {},
   "outputs": [
    {
     "data": {
      "text/plain": [
       "a    bool\n",
       "b    bool\n",
       "n    bool\n",
       "dtype: object"
      ]
     },
     "execution_count": 3,
     "metadata": {},
     "output_type": "execute_result"
    }
   ],
   "source": [
    "pd.get_dummies(list(\"banana\")).dtypes"
   ]
  },
  {
   "cell_type": "code",
   "execution_count": 4,
   "id": "7c7daa18",
   "metadata": {},
   "outputs": [
    {
     "data": {
      "text/plain": [
       "gotcha    int64\n",
       "okay      int64\n",
       "dtype: object"
      ]
     },
     "execution_count": 4,
     "metadata": {},
     "output_type": "execute_result"
    }
   ],
   "source": [
    "pd.Series([\"okay\", \"gotcha\", \"okay\"]).str.get_dummies().dtypes"
   ]
  },
  {
   "cell_type": "code",
   "execution_count": 5,
   "id": "d70e895b",
   "metadata": {},
   "outputs": [
    {
     "data": {
      "text/html": [
       "<div>\n",
       "<style scoped>\n",
       "    .dataframe tbody tr th:only-of-type {\n",
       "        vertical-align: middle;\n",
       "    }\n",
       "\n",
       "    .dataframe tbody tr th {\n",
       "        vertical-align: top;\n",
       "    }\n",
       "\n",
       "    .dataframe thead th {\n",
       "        text-align: right;\n",
       "    }\n",
       "</style>\n",
       "<table border=\"1\" class=\"dataframe\">\n",
       "  <thead>\n",
       "    <tr style=\"text-align: right;\">\n",
       "      <th></th>\n",
       "      <th>gotcha</th>\n",
       "      <th>okay</th>\n",
       "    </tr>\n",
       "  </thead>\n",
       "  <tbody>\n",
       "    <tr>\n",
       "      <th>0</th>\n",
       "      <td>False</td>\n",
       "      <td>True</td>\n",
       "    </tr>\n",
       "    <tr>\n",
       "      <th>1</th>\n",
       "      <td>True</td>\n",
       "      <td>False</td>\n",
       "    </tr>\n",
       "    <tr>\n",
       "      <th>2</th>\n",
       "      <td>False</td>\n",
       "      <td>True</td>\n",
       "    </tr>\n",
       "  </tbody>\n",
       "</table>\n",
       "</div>"
      ],
      "text/plain": [
       "   gotcha   okay\n",
       "0   False   True\n",
       "1    True  False\n",
       "2   False   True"
      ]
     },
     "execution_count": 5,
     "metadata": {},
     "output_type": "execute_result"
    }
   ],
   "source": [
    "vec1 = pd.get_dummies([\"okay\", \"gotcha\", \"okay\"])\n",
    "vec2 = pd.get_dummies([\"gotcha\", \"okay\", \"okay\"])\n",
    "vec1"
   ]
  },
  {
   "cell_type": "code",
   "execution_count": 6,
   "id": "da5f8027",
   "metadata": {},
   "outputs": [
    {
     "data": {
      "text/html": [
       "<div>\n",
       "<style scoped>\n",
       "    .dataframe tbody tr th:only-of-type {\n",
       "        vertical-align: middle;\n",
       "    }\n",
       "\n",
       "    .dataframe tbody tr th {\n",
       "        vertical-align: top;\n",
       "    }\n",
       "\n",
       "    .dataframe thead th {\n",
       "        text-align: right;\n",
       "    }\n",
       "</style>\n",
       "<table border=\"1\" class=\"dataframe\">\n",
       "  <thead>\n",
       "    <tr style=\"text-align: right;\">\n",
       "      <th></th>\n",
       "      <th>gotcha</th>\n",
       "      <th>okay</th>\n",
       "    </tr>\n",
       "  </thead>\n",
       "  <tbody>\n",
       "    <tr>\n",
       "      <th>0</th>\n",
       "      <td>True</td>\n",
       "      <td>False</td>\n",
       "    </tr>\n",
       "    <tr>\n",
       "      <th>1</th>\n",
       "      <td>False</td>\n",
       "      <td>True</td>\n",
       "    </tr>\n",
       "    <tr>\n",
       "      <th>2</th>\n",
       "      <td>False</td>\n",
       "      <td>True</td>\n",
       "    </tr>\n",
       "  </tbody>\n",
       "</table>\n",
       "</div>"
      ],
      "text/plain": [
       "   gotcha   okay\n",
       "0    True  False\n",
       "1   False   True\n",
       "2   False   True"
      ]
     },
     "execution_count": 6,
     "metadata": {},
     "output_type": "execute_result"
    }
   ],
   "source": [
    "vec2"
   ]
  },
  {
   "cell_type": "code",
   "execution_count": 7,
   "id": "9352c533",
   "metadata": {},
   "outputs": [
    {
     "data": {
      "text/html": [
       "<div>\n",
       "<style scoped>\n",
       "    .dataframe tbody tr th:only-of-type {\n",
       "        vertical-align: middle;\n",
       "    }\n",
       "\n",
       "    .dataframe tbody tr th {\n",
       "        vertical-align: top;\n",
       "    }\n",
       "\n",
       "    .dataframe thead th {\n",
       "        text-align: right;\n",
       "    }\n",
       "</style>\n",
       "<table border=\"1\" class=\"dataframe\">\n",
       "  <thead>\n",
       "    <tr style=\"text-align: right;\">\n",
       "      <th></th>\n",
       "      <th>gotcha</th>\n",
       "      <th>okay</th>\n",
       "    </tr>\n",
       "  </thead>\n",
       "  <tbody>\n",
       "    <tr>\n",
       "      <th>0</th>\n",
       "      <td>True</td>\n",
       "      <td>True</td>\n",
       "    </tr>\n",
       "    <tr>\n",
       "      <th>1</th>\n",
       "      <td>True</td>\n",
       "      <td>True</td>\n",
       "    </tr>\n",
       "    <tr>\n",
       "      <th>2</th>\n",
       "      <td>False</td>\n",
       "      <td>False</td>\n",
       "    </tr>\n",
       "  </tbody>\n",
       "</table>\n",
       "</div>"
      ],
      "text/plain": [
       "   gotcha   okay\n",
       "0    True   True\n",
       "1    True   True\n",
       "2   False  False"
      ]
     },
     "execution_count": 7,
     "metadata": {},
     "output_type": "execute_result"
    }
   ],
   "source": [
    "vec1 != vec2"
   ]
  },
  {
   "cell_type": "code",
   "execution_count": 8,
   "id": "63e015ff",
   "metadata": {},
   "outputs": [
    {
     "data": {
      "text/plain": [
       "0     True\n",
       "1     True\n",
       "2    False\n",
       "dtype: bool"
      ]
     },
     "execution_count": 8,
     "metadata": {},
     "output_type": "execute_result"
    }
   ],
   "source": [
    "(vec1 != vec2).all(axis=1)"
   ]
  },
  {
   "cell_type": "code",
   "execution_count": 9,
   "id": "19f0de59",
   "metadata": {},
   "outputs": [
    {
     "data": {
      "text/plain": [
       "gotcha    bool\n",
       "okay      bool\n",
       "dtype: object"
      ]
     },
     "execution_count": 9,
     "metadata": {},
     "output_type": "execute_result"
    }
   ],
   "source": [
    "pd.get_dummies(pd.Series([\"okay\", \"gotcha\", \"okay\"])).dtypes"
   ]
  },
  {
   "cell_type": "code",
   "execution_count": 10,
   "id": "0ec93223",
   "metadata": {},
   "outputs": [
    {
     "data": {
      "text/plain": [
       "gotcha    int64\n",
       "okay      int64\n",
       "dtype: object"
      ]
     },
     "execution_count": 10,
     "metadata": {},
     "output_type": "execute_result"
    }
   ],
   "source": [
    "pd.Series([\"okay\", \"gotcha\", \"okay\"]).str.get_dummies().dtypes"
   ]
  },
  {
   "cell_type": "code",
   "execution_count": 11,
   "id": "7b2fc7b9",
   "metadata": {},
   "outputs": [
    {
     "data": {
      "text/plain": [
       "numpy.uint8"
      ]
     },
     "execution_count": 11,
     "metadata": {},
     "output_type": "execute_result"
    }
   ],
   "source": [
    "import numpy as np\n",
    "np.uint8"
   ]
  },
  {
   "cell_type": "code",
   "execution_count": 12,
   "id": "664b6862",
   "metadata": {},
   "outputs": [
    {
     "data": {
      "text/plain": [
       "1"
      ]
     },
     "execution_count": 12,
     "metadata": {},
     "output_type": "execute_result"
    }
   ],
   "source": [
    "np.array([1], dtype='uint8').itemsize"
   ]
  },
  {
   "cell_type": "code",
   "execution_count": 13,
   "id": "7bf548ef",
   "metadata": {},
   "outputs": [
    {
     "data": {
      "text/plain": [
       "1"
      ]
     },
     "execution_count": 13,
     "metadata": {},
     "output_type": "execute_result"
    }
   ],
   "source": [
    "np.array(1, dtype='uint8').itemsize"
   ]
  },
  {
   "cell_type": "code",
   "execution_count": 14,
   "id": "2ac94a16",
   "metadata": {},
   "outputs": [
    {
     "data": {
      "text/plain": [
       "1"
      ]
     },
     "execution_count": 14,
     "metadata": {},
     "output_type": "execute_result"
    }
   ],
   "source": [
    "np.int8(1).itemsize"
   ]
  },
  {
   "cell_type": "code",
   "execution_count": 15,
   "id": "28a7687b",
   "metadata": {},
   "outputs": [
    {
     "data": {
      "text/plain": [
       "8"
      ]
     },
     "execution_count": 15,
     "metadata": {},
     "output_type": "execute_result"
    }
   ],
   "source": [
    "np.array([True, False]*4, dtype='bool').size"
   ]
  },
  {
   "cell_type": "code",
   "execution_count": 16,
   "id": "de25bb6c",
   "metadata": {},
   "outputs": [
    {
     "name": "stdout",
     "output_type": "stream",
     "text": [
      "Help on getset descriptor numpy.generic.itemsize:\n",
      "\n",
      "itemsize\n",
      "    The length of one element in bytes.\n",
      "\n"
     ]
    }
   ],
   "source": [
    "help(np.uint8.itemsize)"
   ]
  },
  {
   "cell_type": "code",
   "execution_count": 17,
   "id": "037fea15",
   "metadata": {},
   "outputs": [
    {
     "data": {
      "text/plain": [
       "(16, 1)"
      ]
     },
     "execution_count": 17,
     "metadata": {},
     "output_type": "execute_result"
    }
   ],
   "source": [
    "x = np.array([True]*16)\n",
    "x.size, x.itemsize"
   ]
  },
  {
   "cell_type": "code",
   "execution_count": 18,
   "id": "2efd8201",
   "metadata": {},
   "outputs": [
    {
     "data": {
      "text/plain": [
       "(2, 1)"
      ]
     },
     "execution_count": 18,
     "metadata": {},
     "output_type": "execute_result"
    }
   ],
   "source": [
    "xb = np.packbits(x)\n",
    "xb.size, xb.itemsize"
   ]
  },
  {
   "cell_type": "code",
   "execution_count": 19,
   "id": "3e64e715",
   "metadata": {},
   "outputs": [
    {
     "data": {
      "text/plain": [
       "True"
      ]
     },
     "execution_count": 19,
     "metadata": {},
     "output_type": "execute_result"
    }
   ],
   "source": [
    "np.array_equal(x, np.unpackbits(xb))"
   ]
  },
  {
   "cell_type": "code",
   "execution_count": 20,
   "id": "c1be0bb2",
   "metadata": {},
   "outputs": [
    {
     "data": {
      "text/plain": [
       "array([255, 255], dtype=uint8)"
      ]
     },
     "execution_count": 20,
     "metadata": {},
     "output_type": "execute_result"
    }
   ],
   "source": [
    "xb"
   ]
  },
  {
   "cell_type": "code",
   "execution_count": 21,
   "id": "02b253bc",
   "metadata": {},
   "outputs": [
    {
     "data": {
      "text/plain": [
       "(16, 8)"
      ]
     },
     "execution_count": 21,
     "metadata": {},
     "output_type": "execute_result"
    }
   ],
   "source": [
    "y = np.array([1.5]*16)\n",
    "y.size, y.itemsize"
   ]
  },
  {
   "cell_type": "code",
   "execution_count": 22,
   "id": "9d9986eb",
   "metadata": {},
   "outputs": [
    {
     "data": {
      "text/plain": [
       "8.0"
      ]
     },
     "execution_count": 22,
     "metadata": {},
     "output_type": "execute_result"
    }
   ],
   "source": [
    "64/8"
   ]
  },
  {
   "cell_type": "code",
   "execution_count": 23,
   "id": "38a6a283",
   "metadata": {},
   "outputs": [
    {
     "name": "stdout",
     "output_type": "stream",
     "text": [
      "Help on _ArrayFunctionDispatcher in module numpy:\n",
      "\n",
      "packbits(...)\n",
      "    packbits(a, /, axis=None, bitorder='big')\n",
      "    \n",
      "    Packs the elements of a binary-valued array into bits in a uint8 array.\n",
      "    \n",
      "    The result is padded to full bytes by inserting zero bits at the end.\n",
      "    \n",
      "    Parameters\n",
      "    ----------\n",
      "    a : array_like\n",
      "        An array of integers or booleans whose elements should be packed to\n",
      "        bits.\n",
      "    axis : int, optional\n",
      "        The dimension over which bit-packing is done.\n",
      "        ``None`` implies packing the flattened array.\n",
      "    bitorder : {'big', 'little'}, optional\n",
      "        The order of the input bits. 'big' will mimic bin(val),\n",
      "        ``[0, 0, 0, 0, 0, 0, 1, 1] => 3 = 0b00000011``, 'little' will\n",
      "        reverse the order so ``[1, 1, 0, 0, 0, 0, 0, 0] => 3``.\n",
      "        Defaults to 'big'.\n",
      "    \n",
      "        .. versionadded:: 1.17.0\n",
      "    \n",
      "    Returns\n",
      "    -------\n",
      "    packed : ndarray\n",
      "        Array of type uint8 whose elements represent bits corresponding to the\n",
      "        logical (0 or nonzero) value of the input elements. The shape of\n",
      "        `packed` has the same number of dimensions as the input (unless `axis`\n",
      "        is None, in which case the output is 1-D).\n",
      "    \n",
      "    See Also\n",
      "    --------\n",
      "    unpackbits: Unpacks elements of a uint8 array into a binary-valued output\n",
      "                array.\n",
      "    \n",
      "    Examples\n",
      "    --------\n",
      "    >>> a = np.array([[[1,0,1],\n",
      "    ...                [0,1,0]],\n",
      "    ...               [[1,1,0],\n",
      "    ...                [0,0,1]]])\n",
      "    >>> b = np.packbits(a, axis=-1)\n",
      "    >>> b\n",
      "    array([[[160],\n",
      "            [ 64]],\n",
      "           [[192],\n",
      "            [ 32]]], dtype=uint8)\n",
      "    \n",
      "    Note that in binary 160 = 1010 0000, 64 = 0100 0000, 192 = 1100 0000,\n",
      "    and 32 = 0010 0000.\n",
      "\n"
     ]
    }
   ],
   "source": [
    "help(np.packbits)"
   ]
  },
  {
   "cell_type": "code",
   "execution_count": null,
   "id": "9b97623f",
   "metadata": {},
   "outputs": [],
   "source": []
  },
  {
   "cell_type": "code",
   "execution_count": null,
   "id": "ca8847ff",
   "metadata": {},
   "outputs": [],
   "source": []
  },
  {
   "cell_type": "code",
   "execution_count": null,
   "id": "6d6c1d04",
   "metadata": {},
   "outputs": [],
   "source": []
  }
 ],
 "metadata": {
  "kernelspec": {
   "display_name": "Python (torch)",
   "language": "python",
   "name": "torch"
  },
  "language_info": {
   "codemirror_mode": {
    "name": "ipython",
    "version": 3
   },
   "file_extension": ".py",
   "mimetype": "text/x-python",
   "name": "python",
   "nbconvert_exporter": "python",
   "pygments_lexer": "ipython3",
   "version": "3.9.18"
  }
 },
 "nbformat": 4,
 "nbformat_minor": 5
}
