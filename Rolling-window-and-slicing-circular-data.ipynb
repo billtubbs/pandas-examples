{
 "cells": [
  {
   "cell_type": "markdown",
   "id": "d51d577e",
   "metadata": {},
   "source": [
    "# Rolling window and slicing with a rolling (circular) series\n",
    "\n",
    "Inspired by this stackoverflow question:\n",
    " - https://stackoverflow.com/questions/72876190/rolling-windows-in-pandas-how-to-wrap-around-with-datetimeindex/72876308#72876291"
   ]
  },
  {
   "cell_type": "code",
   "execution_count": 1,
   "id": "9dc9fb5e",
   "metadata": {},
   "outputs": [],
   "source": [
    "import numpy as np\n",
    "import pandas as pd\n",
    "\n",
    "data = pd.Series(index=pd.date_range('2022-1-1', '2022-12-31', freq='D'),\n",
    "                 data=np.random.random(365))"
   ]
  },
  {
   "cell_type": "code",
   "execution_count": 2,
   "id": "b1f39f83",
   "metadata": {},
   "outputs": [
    {
     "data": {
      "text/plain": [
       "2022-01-01         NaN\n",
       "2022-01-02         NaN\n",
       "2022-01-03    1.559377\n",
       "2022-01-04    1.987810\n",
       "2022-01-05    1.893174\n",
       "                ...   \n",
       "2022-12-27    1.903891\n",
       "2022-12-28    1.780925\n",
       "2022-12-29    1.958164\n",
       "2022-12-30    1.685558\n",
       "2022-12-31    1.690854\n",
       "Freq: D, Length: 365, dtype: float64"
      ]
     },
     "execution_count": 2,
     "metadata": {},
     "output_type": "execute_result"
    }
   ],
   "source": [
    "n = 3\n",
    "rolling_sums1 = data.rolling(n).sum()\n",
    "rolling_sums1"
   ]
  },
  {
   "cell_type": "code",
   "execution_count": 3,
   "id": "c78ac37d",
   "metadata": {},
   "outputs": [
    {
     "data": {
      "text/plain": [
       "2022-01-01    1.405723\n",
       "2022-01-02    2.052649\n",
       "2022-01-03    1.559377\n",
       "2022-01-04    1.987810\n",
       "2022-01-05    1.893174\n",
       "                ...   \n",
       "2022-12-27    1.903891\n",
       "2022-12-28    1.780925\n",
       "2022-12-29    1.958164\n",
       "2022-12-30    1.685558\n",
       "2022-12-31    1.690854\n",
       "Length: 365, dtype: float64"
      ]
     },
     "execution_count": 3,
     "metadata": {},
     "output_type": "execute_result"
    }
   ],
   "source": [
    "rolling_sums = (pd.concat([data[-n:], data])).rolling(n).sum()[n:]\n",
    "rolling_sums"
   ]
  },
  {
   "cell_type": "code",
   "execution_count": 4,
   "id": "97e3eb13",
   "metadata": {},
   "outputs": [],
   "source": [
    "# Test\n",
    "assert(rolling_sums.loc[\"2022-01-01\"] ==\n",
    "    data[[\"2022-12-30\", \"2022-12-31\", \"2022-01-01\"]].sum())"
   ]
  },
  {
   "cell_type": "markdown",
   "id": "30c0f09a",
   "metadata": {},
   "source": [
    "## Rolling slice functions\n",
    "\n",
    "In case you also want calculate individual rolling sums for certain days there are some Python slicing tricks that can be useful.\n",
    "\n",
    "First, consider this rolling list slicer:"
   ]
  },
  {
   "cell_type": "code",
   "execution_count": 5,
   "id": "cf18d582",
   "metadata": {},
   "outputs": [],
   "source": [
    "def rolling_slice(items, i, n):\n",
    "    return (items[i:] + items[:i])[:n]\n",
    "\n",
    "assert rolling_slice([1, 2, 3], 0, 3) == [1, 2, 3]\n",
    "assert rolling_slice([1, 2, 3], 1, 3) == [2, 3, 1]\n",
    "assert rolling_slice([1, 2, 3], -1, 3) == [3, 1, 2]"
   ]
  },
  {
   "cell_type": "markdown",
   "id": "e3faa9c0",
   "metadata": {},
   "source": [
    "Now, adapt this for Pandas series and dataframes:\n",
    "\n",
    "However, these functions are not an efficient way to calculate all the rolling sums."
   ]
  },
  {
   "cell_type": "code",
   "execution_count": 6,
   "id": "aac737cf",
   "metadata": {},
   "outputs": [],
   "source": [
    "def rolling_slice_pd(data, i, n):\n",
    "    return pd.concat([data.iloc[i:], data.iloc[:i]]).iloc[:n]\n",
    "\n",
    "s = pd.Series([1, 2, 3])\n",
    "assert np.array_equal(rolling_slice_pd(s, 0, 3), [1, 2, 3])\n",
    "assert np.array_equal(rolling_slice_pd(s, 1, 3), [2, 3, 1])\n",
    "assert np.array_equal(rolling_slice_pd(s, -1, 3), [3, 1, 2])"
   ]
  },
  {
   "cell_type": "code",
   "execution_count": 7,
   "id": "7d7354c7",
   "metadata": {},
   "outputs": [
    {
     "name": "stdout",
     "output_type": "stream",
     "text": [
      "2022-12-30    0.292702\n",
      "2022-12-31    0.732890\n",
      "2022-01-01    0.380131\n",
      "dtype: float64\n"
     ]
    }
   ],
   "source": [
    "i = 0  # 2022-01-01\n",
    "print(rolling_slice_pd(data, i-n+1, n))"
   ]
  },
  {
   "cell_type": "code",
   "execution_count": 8,
   "id": "1abcbb45",
   "metadata": {},
   "outputs": [
    {
     "name": "stdout",
     "output_type": "stream",
     "text": [
      "1.405722807276013\n"
     ]
    }
   ],
   "source": [
    "print(rolling_slice_pd(data, i-n+1, n).sum())"
   ]
  },
  {
   "cell_type": "code",
   "execution_count": null,
   "id": "686402c1",
   "metadata": {},
   "outputs": [],
   "source": []
  }
 ],
 "metadata": {
  "kernelspec": {
   "display_name": "torch",
   "language": "python",
   "name": "torch"
  },
  "language_info": {
   "codemirror_mode": {
    "name": "ipython",
    "version": 3
   },
   "file_extension": ".py",
   "mimetype": "text/x-python",
   "name": "python",
   "nbconvert_exporter": "python",
   "pygments_lexer": "ipython3",
   "version": "3.9.12"
  }
 },
 "nbformat": 4,
 "nbformat_minor": 5
}
