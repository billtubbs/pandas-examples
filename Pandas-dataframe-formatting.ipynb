{
 "cells": [
  {
   "cell_type": "markdown",
   "id": "b1ed8a43",
   "metadata": {},
   "source": [
    "## Dataframe Format Settings"
   ]
  },
  {
   "cell_type": "code",
   "execution_count": 9,
   "id": "66a5ce2e",
   "metadata": {},
   "outputs": [],
   "source": [
    "import pandas as pd"
   ]
  },
  {
   "cell_type": "code",
   "execution_count": 14,
   "id": "426f97c4",
   "metadata": {},
   "outputs": [
    {
     "data": {
      "text/html": [
       "<style type=\"text/css\">\n",
       "</style>\n",
       "<table id=\"T_0a01f\">\n",
       "  <thead>\n",
       "    <tr>\n",
       "      <th class=\"blank level0\" >&nbsp;</th>\n",
       "      <th id=\"T_0a01f_level0_col0\" class=\"col_heading level0 col0\" >STRINGS</th>\n",
       "      <th id=\"T_0a01f_level0_col1\" class=\"col_heading level0 col1\" >INTS</th>\n",
       "      <th id=\"T_0a01f_level0_col2\" class=\"col_heading level0 col2\" >FLOATS</th>\n",
       "    </tr>\n",
       "  </thead>\n",
       "  <tbody>\n",
       "    <tr>\n",
       "      <th id=\"T_0a01f_level0_row0\" class=\"row_heading level0 row0\" >row 1</th>\n",
       "      <td id=\"T_0a01f_row0_col0\" class=\"data row0 col0\" >Adam</td>\n",
       "      <td id=\"T_0a01f_row0_col1\" class=\"data row0 col1\" >1</td>\n",
       "      <td id=\"T_0a01f_row0_col2\" class=\"data row0 col2\" >1.064</td>\n",
       "    </tr>\n",
       "    <tr>\n",
       "      <th id=\"T_0a01f_level0_row1\" class=\"row_heading level0 row1\" >row 2</th>\n",
       "      <td id=\"T_0a01f_row1_col0\" class=\"data row1 col0\" >Jane</td>\n",
       "      <td id=\"T_0a01f_row1_col1\" class=\"data row1 col1\" >2</td>\n",
       "      <td id=\"T_0a01f_row1_col2\" class=\"data row1 col2\" >1,000.230</td>\n",
       "    </tr>\n",
       "  </tbody>\n",
       "</table>\n"
      ],
      "text/plain": [
       "<pandas.io.formats.style.Styler at 0x7fe029349f40>"
      ]
     },
     "execution_count": 14,
     "metadata": {},
     "output_type": "execute_result"
    }
   ],
   "source": [
    "df = pd.DataFrame({\n",
    "    \"strings\": [\"Adam\", \"Jane\"],\n",
    "    \"ints\": [1, 2],\n",
    "    \"floats\": [1.064259, 1000.23]\n",
    "})\n",
    "df.style \\\n",
    "  .format(precision=3, thousands=\",\", decimal=\".\") \\\n",
    "  .format_index(str.upper, axis=1) \\\n",
    "  .relabel_index([\"row 1\", \"row 2\"], axis=0)"
   ]
  },
  {
   "cell_type": "code",
   "execution_count": null,
   "id": "1db719e3",
   "metadata": {},
   "outputs": [],
   "source": []
  },
  {
   "cell_type": "code",
   "execution_count": null,
   "id": "fb152de5",
   "metadata": {},
   "outputs": [],
   "source": []
  },
  {
   "cell_type": "code",
   "execution_count": null,
   "id": "0d700540",
   "metadata": {},
   "outputs": [],
   "source": []
  }
 ],
 "metadata": {
  "kernelspec": {
   "display_name": "Python (torch)",
   "language": "python",
   "name": "torch"
  },
  "language_info": {
   "codemirror_mode": {
    "name": "ipython",
    "version": 3
   },
   "file_extension": ".py",
   "mimetype": "text/x-python",
   "name": "python",
   "nbconvert_exporter": "python",
   "pygments_lexer": "ipython3",
   "version": "3.9.18"
  }
 },
 "nbformat": 4,
 "nbformat_minor": 5
}
